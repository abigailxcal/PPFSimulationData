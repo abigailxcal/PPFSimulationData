{
 "cells": [
  {
   "cell_type": "code",
   "execution_count": null,
   "id": "d1e26707-6880-4f55-aabb-157f95c64230",
   "metadata": {},
   "outputs": [],
   "source": [
    "# File: fitting.ipynb\n",
    "# Author: Ryoichi Ando (ryoichi.ando@zozo.com)\n",
    "# License: Apache v2.0"
   ]
  },
  {
   "cell_type": "code",
   "execution_count": null,
   "id": "49fa95ad-6a12-4d46-a102-3050e2bef2d4",
   "metadata": {
    "editable": true,
    "scrolled": true,
    "slideshow": {
     "slide_type": ""
    },
    "tags": []
   },
   "outputs": [],
   "source": [
    "import os\n",
    "import shutil\n",
    "import random\n",
    "from datetime import datetime\n",
    "\n",
    "from frontend import App\n",
    "\n",
    "app = App.create()\n",
    "\n",
    "codim_ipc_root = \"/tmp/Codim-IPC\"\n",
    "checkout_list = [\n",
    "    #\"Projects/FEMShell/input/multilayer\",\n",
    "    \"Projects/FEMShell/input/dress_knife\",\n",
    "    \"Projects/FEMShell/input/Rumba_Dancing\",\n",
    "]\n",
    "app.extra.sparse_clone(\n",
    "    \"https://github.com/ipc-sim/Codim-IPC\", codim_ipc_root, checkout_list\n",
    ")\n",
    "\n",
    "stage_path = os.path.join(codim_ipc_root, checkout_list[0], \"stage.obj\")\n",
    "body_path = os.path.join(codim_ipc_root, checkout_list[1], \"shell0.obj\")\n",
    "\n",
    "V, F, S = app.extra.load_CIPC_stitch_mesh(stage_path)\n",
    "app.asset.add.tri(\"dress\", V, F)\n",
    "app.asset.add.stitch(\"glue\", S)\n",
    "\n",
    "V, F = app.mesh.load_tri(body_path)\n",
    "app.asset.add.tri(\"body\", V, F)\n",
    "\n",
    "scene = app.scene.create(\"fit-and-dance\")\n",
    "scene.add(\"dress\").stitch(\"glue\").rotate(-90, \"x\")\n",
    "\n",
    "jitter = 0.01 * random.random()\n",
    "body = scene.add(\"body\").at(0, -0.78 + jitter, 0).pin()\n",
    "body_dir = os.path.join(codim_ipc_root, checkout_list[1])\n",
    "frame = 1\n",
    "while True:\n",
    "    path = os.path.join(body_dir, f\"shell{frame}.obj\")\n",
    "    if os.path.exists(path):\n",
    "        V, _ = app.mesh.load_tri(path)\n",
    "        body.move_to(V, 0.5 + 0.025 * frame)\n",
    "        frame += 1\n",
    "    else:\n",
    "        break\n",
    "\n",
    "fixed = scene.build().report()\n",
    "fixed.preview(options={\"pin\": False})"
   ]
  },
  {
   "cell_type": "code",
   "execution_count": null,
   "id": "34efc86f-c62e-47b1-a19e-b1f8c9429fdb",
   "metadata": {},
   "outputs": [
    {
     "data": {
      "application/vnd.jupyter.widget-view+json": {
       "model_id": "468cc84aba8b4893ae399e3c4aea48a0",
       "version_major": 2,
       "version_minor": 0
      },
      "text/plain": [
       "Renderer(camera=PerspectiveCamera(children=(DirectionalLight(position=(0.0, 0.0, 1.8741250038146973), quaterni…"
      ]
     },
     "metadata": {},
     "output_type": "display_data"
    },
    {
     "data": {
      "application/vnd.jupyter.widget-view+json": {
       "model_id": "5763121de05542c1ad893695d8d9d07e",
       "version_major": 2,
       "version_minor": 0
      },
      "text/plain": [
       "Button(description='Terminate Solver', style=ButtonStyle())"
      ]
     },
     "metadata": {},
     "output_type": "display_data"
    },
    {
     "data": {
      "application/vnd.jupyter.widget-view+json": {
       "model_id": "044232d0e7484ae39da06bb95ca1e6a5",
       "version_major": 2,
       "version_minor": 0
      },
      "text/plain": [
       "HTML(value='')"
      ]
     },
     "metadata": {},
     "output_type": "display_data"
    },
    {
     "data": {
      "application/vnd.jupyter.widget-view+json": {
       "model_id": "584a8e672c914b90937e0d767f3e2ab5",
       "version_major": 2,
       "version_minor": 0
      },
      "text/plain": [
       "HTML(value='')"
      ]
     },
     "metadata": {},
     "output_type": "display_data"
    },
    {
     "data": {
      "application/vnd.jupyter.widget-view+json": {
       "model_id": "a87af8da69fd44aba986fe13c73522f6",
       "version_major": 2,
       "version_minor": 0
      },
      "text/plain": [
       "HBox(children=(Button(description='Stop Live Stream', style=ButtonStyle()), Button(description='Terminate Solv…"
      ]
     },
     "metadata": {},
     "output_type": "display_data"
    },
    {
     "data": {
      "text/plain": [
       "<frontend._session_.Session at 0x7cffdc9c3280>"
      ]
     },
     "execution_count": 150,
     "metadata": {},
     "output_type": "execute_result"
    }
   ],
   "source": [
    "param = (\n",
    "    app.session.param()\n",
    "    .set(\"fitting\")\n",
    "    .set(\"dt\", 0.02)\n",
    "    .set(\"frames\", 240)\n",
    "    .set(\"friction\", 0.005)\n",
    "    .set(\"model-shell\", \"baraffwitkin\")\n",
    "    .set(\"contact-ghat\", 0.6e-3)  # 0.5e3  parameter controls the activation threshold of contact. Lower values increase contact density:\n",
    "    .set(\"strain-limit-eps\", 0.06)   #0.1 Make it smaller to strongly limit how much the cloth can stretch\n",
    "    .set(\"cg-tol\", 1e-4)\n",
    "    .set(\"cg-max-iter\",500000)\n",
    "   .set(\"bend\",20)\n",
    "    .set(\"area-density\", 8000)\n",
    "    .set(\"stitch-stiffness\",2.0)\n",
    "    # .set(\"target-toi\",0.35)  #0.25 is default\n",
    "    # .set(\"area-young-mod\", 500.0)\n",
    "    # .set(\"area-poiss-rat\", 0.3)\n",
    "     # .set(\"gravity\", -11.98)\n",
    ")\n",
    "param.dyn(\"fitting\").time(0.25).hold().change(False)\n",
    "param.dyn(\"dt\").time(0.25).hold().change(0.04) \n",
    "\n",
    "\n",
    "\n",
    "# param = (\n",
    "#     app.session.param()\n",
    "#     .set(\"fitting\")\n",
    "#     .set(\"dt\", 0.02)\n",
    "#     .set(\"frames\", 240)\n",
    "#     .set(\"friction\", 0.0)\n",
    "#     .set(\"model-shell\", \"arap\")\n",
    "#     .set(\"contact-ghat\", 0.5e-3)\n",
    "#     .set(\"strain-limit-eps\", 0.1)\n",
    "# )\n",
    "\n",
    "session = app.session.create(fixed)\n",
    "session.start(param).preview()\n",
    "session.stream()"
   ]
  },
  {
   "cell_type": "code",
   "execution_count": null,
   "id": "d510e34b-e943-4e60-a96c-a9db5298e2d5",
   "metadata": {},
   "outputs": [],
   "source": [
    "def build_scene():\n",
    "    app = App.create()\n",
    "\n",
    "    codim_ipc_root = \"/tmp/Codim-IPC\"\n",
    "    checkout_list = [\n",
    "        #\"Projects/FEMShell/input/multilayer\",\n",
    "        \"Projects/FEMShell/input/dress_knife\",\n",
    "        \"Projects/FEMShell/input/Rumba_Dancing\",\n",
    "    ]\n",
    "    app.extra.sparse_clone(\n",
    "        \"https://github.com/ipc-sim/Codim-IPC\", codim_ipc_root, checkout_list\n",
    "    )\n",
    "\n",
    "    stage_path = os.path.join(codim_ipc_root, checkout_list[0], \"stage.obj\")\n",
    "    body_path = os.path.join(codim_ipc_root, checkout_list[1], \"shell0.obj\")\n",
    "\n",
    "    V, F, S = app.extra.load_CIPC_stitch_mesh(stage_path)\n",
    "    app.asset.add.tri(\"dress\", V, F)\n",
    "    app.asset.add.stitch(\"glue\", S)\n",
    "\n",
    "    V, F = app.mesh.load_tri(body_path)\n",
    "    app.asset.add.tri(\"body\", V, F)\n",
    "\n",
    "    scene = app.scene.create(\"fit-and-dance\")\n",
    "    scene.add(\"dress\").stitch(\"glue\").rotate(-90, \"x\")\n",
    "\n",
    "    jitter = 0.01 * random.random()\n",
    "    body = scene.add(\"body\").at(0, -0.78 + jitter, 0).pin()\n",
    "    body_dir = os.path.join(codim_ipc_root, checkout_list[1])\n",
    "    frame = 1\n",
    "    while True:\n",
    "        path = os.path.join(body_dir, f\"shell{frame}.obj\")\n",
    "        if os.path.exists(path):\n",
    "            V, _ = app.mesh.load_tri(path)\n",
    "            body.move_to(V, 0.5 + 0.025 * frame)\n",
    "            frame += 1\n",
    "        else:\n",
    "            break\n",
    "\n",
    "    fixed = scene.build().report()\n",
    "    fixed.preview(options={\"pin\": False})\n",
    "\n",
    "def run_experiment(params, param_dict, exp_name=None):\n",
    "    build_scene()\n",
    "\n",
    "    session = app.session.create(fixed)\n",
    "    session.start(params).preview()\n",
    "    session.stream()\n",
    "\n",
    "    while not session.finished():\n",
    "        pass\n",
    "    if session.finished():\n",
    "        print(\"session finished\")\n",
    "\n",
    "    # Auto-name everything\n",
    "    timestamp = datetime.now().strftime(\"%Y%m%d-%H%M%S\")\n",
    "    exp_name = exp_name or f\"exp_{timestamp}\"\n",
    "    exp_dir = f\"./logs/{exp_name}\"\n",
    "    os.makedirs(exp_dir, exist_ok=True)\n",
    "\n",
    "    # Save stdout separately FIRST (always exists)\n",
    "    lines_to_write = session.get.log.stdout()\n",
    "    with open(f\"{exp_dir}/stdout.txt\", \"w\") as f:\n",
    "        f.writelines(line + '\\n' for line in lines_to_write)\n",
    "\n",
    "    # Try to save structured logs\n",
    "    try:\n",
    "        logs = session.get.log.names()\n",
    "        if logs:\n",
    "            for logname in logs:\n",
    "                numbers = session.get.log.numbers(logname)\n",
    "                with open(f\"{exp_dir}/{logname}.csv\", \"w\") as f:\n",
    "                    f.write(\"frame,value\\n\")\n",
    "                    for frame, value in numbers:\n",
    "                        f.write(f\"{frame},{value}\\n\")\n",
    "        else:\n",
    "            print(f\"⚠️  Warning: No structured logs found for {exp_name}. PCG might have failed early.\")\n",
    "    except Exception as e:\n",
    "        print(f\"⚠️  Warning: Failed to save structured logs for {exp_name}. Error: {e}\")\n",
    "\n",
    "    # Always save params\n",
    "    with open(f\"{exp_dir}/params.txt\", \"w\") as f:\n",
    "        for key, value in param_dict.items():\n",
    "            f.write(f\"{key}: {value}\\n\")\n",
    "\n",
    "    print(f\"✅ Experiment {exp_name} saved to {exp_dir}\")\n",
    "\n",
    "    return session.finished()\n",
    "\n"
   ]
  },
  {
   "cell_type": "code",
   "execution_count": null,
   "id": "c13fc0f8-38b6-4b84-a88b-9ac66af7c98b",
   "metadata": {
    "scrolled": true
   },
   "outputs": [],
   "source": [
    "experiments = [\n",
    "    {\"dt\": 0.002, \"dyn_dt_change\": 0.02, \"bend\": 20, \"strain-limit-eps\": 0.06,\"contact-ghat\": 0.4e-3},\n",
    "    {\"dt\": 0.002, \"dyn_dt_change\": 0.02, \"bend\": 20, \"strain-limit-eps\": 0.02, \"contact-ghat\": 0.4e-3},\n",
    "    {\"dt\": 0.002, \"dyn_dt_change\": 0.023, \"bend\": 20, \"strain-limit-eps\": 0.01, \"contact-ghat\": 0.4e-3},    #default strain\n",
    "    {\"dt\": 0.002, \"dyn_dt_change\": 0.023, \"bend\": 35, \"strain-limit-eps\": 0.01, \"contact-ghat\": 0.4e-3},    #default strain\n",
    "    {\"dt\": 0.002, \"dyn_dt_change\": 0.023, \"bend\": 35, \"strain-limit-eps\": 0.05, \"contact-ghat\": 0.4e-3},\n",
    "    {\"dt\": 0.002, \"dyn_dt_change\": 0.023, \"bend\": 35, \"strain-limit-eps\": 0.05, \"contact-ghat\": 0.2e-3},\n",
    "]\n",
    "\n",
    "for idx, exp in enumerate(experiments):\n",
    "    param = (\n",
    "        app.session.param()\n",
    "        .set(\"fitting\")\n",
    "        .set(\"dt\", exp[\"dt\"])\n",
    "        .set(\"frames\", 240)\n",
    "        .set(\"friction\", 0.0)\n",
    "        .set(\"model-shell\", \"arap\")\n",
    "        .set(\"contact-ghat\", exp[\"contact-ghat\"])\n",
    "        .set(\"strain-limit-eps\", exp[\"strain-limit-eps\"])\n",
    "        .set(\"cg-max-iter\",100000)\n",
    "        .set(\"cg-tol\",0.00001)\n",
    "        .set(\"bend\", exp[\"bend\"])\n",
    "    )\n",
    "    param.dyn(\"fitting\").time(0.15).hold().change(False)\n",
    "    param.dyn(\"dt\").time(0.15).hold().change(exp[\"dyn_dt_change\"])\n",
    "\n",
    "    sess = run_experiment(param, exp, exp_name=f\"strain_run_{idx+1}\")\n",
    "    print(sess)\n",
    "\n",
    "\n",
    "\n",
    "\n",
    "# Define experiment configurations\n",
    "base_experiments = [\n",
    "    {\"name\": \"strain_sweep_0.01\", \"dt\": 0.002, \"dyn_dt_change\": 0.02, \"bend\": 5, \"strain-limit-eps\": 0.01, \"contact-ghat\": 0.4e-3},\n",
    "    {\"name\": \"strain_sweep_0.05\", \"dt\": 0.002, \"dyn_dt_change\": 0.02, \"bend\": 5, \"strain-limit-eps\": 0.05, \"contact-ghat\": 0.4e-3},\n",
    "    {\"name\": \"strain_sweep_0.10\", \"dt\": 0.002, \"dyn_dt_change\": 0.02, \"bend\": 2, \"strain-limit-eps\": 0.1,  \"contact-ghat\": 0.4e-3},\n",
    "    {\"name\": \"friction_high\",     \"dt\": 0.005, \"dyn_dt_change\": 0.02, \"bend\": 5, \"strain-limit-eps\": 0.02, \"contact-ghat\": 0.8e-3, \"friction\": 0.01},\n",
    "    {\"name\": \"dt_large\",          \"dt\": 0.05,  \"dyn_dt_change\": 0.05, \"bend\": 2, \"strain-limit-eps\": 0.01, \"contact-ghat\": 1e-4},\n",
    "    {\"name\": \"contact_sweep\",     \"dt\": 0.002, \"dyn_dt_change\": 0.02, \"bend\": 2, \"strain-limit-eps\": 0.02, \"contact-ghat\": 1e-4},\n",
    "]\n",
    "\n",
    "shell_models = [\"arap\", \"baraffwitkin\"]\n",
    "\n",
    "# Run all experiments\n",
    "for exp in base_experiments:\n",
    "    for shell in shell_models:\n",
    "        params = (\n",
    "            app.session.param()\n",
    "            .set(\"fitting\")\n",
    "            .set(\"dt\", exp[\"dt\"])\n",
    "            .set(\"frames\", 240)\n",
    "            .set(\"friction\", 0.0)\n",
    "            .set(\"model-shell\", shell)\n",
    "            .set(\"contact-ghat\", exp[\"contact-ghat\"])\n",
    "            .set(\"strain-limit-eps\", exp[\"strain-limit-eps\"])\n",
    "            .set(\"cg-tol\",0.00001)\n",
    "            .set(\"cg-max-iter\",100000)\n",
    "            .set(\"bend\", exp[\"bend\"]))\n",
    "        \n",
    "        params.dyn(\"fitting\").time(0.15).hold().change(False)\n",
    "        params.dyn(\"dt\").time(0.15).hold().change(exp[\"dyn_dt_change\"])\n",
    "        sess= run_experiment(params, exp_name=f\"{exp['name']}_{shell}\")\n",
    "        print(sess)\n",
    "        \n",
    "        \n",
    "           # .set(\"dt\", base[\"dt\"]),\n",
    "           #  \"dyn_dt_change\": base[\"dyn_dt_change\"],\n",
    "           #  \"bend\": base[\"bend\"],\n",
    "           #  \"strain-limit-eps\": base[\"strain-limit-eps\"],\n",
    "           #  \"contact-ghat\": base[\"contact-ghat\"],\n",
    "           #  \"model-shell\": shell,\n",
    "           #  \"frames\": 240,\n",
    "           #  \"cg-max-iter\": 100000,\n",
    "           #  \"cg-tol\": 1e-5,\n",
    "           #  \"fitting\": True,\n",
    "           #  \"friction\": base.get(\"friction\", 0.0)\n",
    "        \n",
    "\n",
    "\n",
    "\n"
   ]
  },
  {
   "cell_type": "code",
   "execution_count": null,
   "id": "ffe53645-8244-483a-97d4-a0aa5812f20e",
   "metadata": {},
   "outputs": [],
   "source": [
    "\n",
    "# Path to your logs folder\n",
    "logs_dir = \"./logs\"  # or whatever path you're saving them in\n",
    "zip_name = \"experiment_logs.zip\"\n",
    "\n",
    "# Make a ZIP file\n",
    "shutil.make_archive(base_name=zip_name.replace(\".zip\", \"\"), format='zip', root_dir=logs_dir)\n",
    "\n",
    "print(f\"✅ Logs zipped successfully: {zip_name}\")"
   ]
  },
  {
   "cell_type": "code",
   "execution_count": null,
   "id": "ec3c73d4",
   "metadata": {},
   "outputs": [],
   "source": [
    "\n",
    "\n",
    "# Define base configurations\n",
    "base_experiments = [\n",
    "    {\"name\": \"strain_sweep_0.01\", \"dt\": 0.002, \"dyn_dt_change\": 0.02, \"bend\": 20, \"strain-limit-eps\": 0.01, \"contact-ghat\": 0.4e-3},\n",
    "    {\"name\": \"strain_sweep_0.05\", \"dt\": 0.002, \"dyn_dt_change\": 0.02, \"bend\": 20, \"strain-limit-eps\": 0.05, \"contact-ghat\": 0.4e-3},\n",
    "    {\"name\": \"strain_sweep_0.10\", \"dt\": 0.002, \"dyn_dt_change\": 0.02, \"bend\": 20, \"strain-limit-eps\": 0.1,  \"contact-ghat\": 0.4e-3},\n",
    "    {\"name\": \"friction_high\",       \"dt\": 0.005, \"dyn_dt_change\": 0.02, \"bend\": 25, \"strain-limit-eps\": 0.02, \"contact-ghat\": 0.8e-3, \"friction\": 0.8},\n",
    "    {\"name\": \"dt_large\",            \"dt\": 0.05,  \"dyn_dt_change\": 0.05, \"bend\": 20, \"strain-limit-eps\": 0.01, \"contact-ghat\": 1e-4},\n",
    "    {\"name\": \"contact_sweep\",       \"dt\": 0.002, \"dyn_dt_change\": 0.02, \"bend\": 20, \"strain-limit-eps\": 0.02, \"contact-ghat\": 1e-4},\n",
    "]\n",
    "\n",
    "# Shell models to compare\n",
    "shell_models = [\"arap\", \"baraffwitkin\"]\n",
    "\n",
    "# Output base folder\n",
    "run_id = datetime.now().strftime(\"run_%Y%m%d_%H%M%S\")\n",
    "log_base = f\"batch_logs_{run_id}\"\n",
    "os.makedirs(log_base, exist_ok=True)\n",
    "\n",
    "# Function stub (replace this with your actual run logic)\n",
    "def run_experiment(params, folder):\n",
    "    os.makedirs(folder, exist_ok=True)\n",
    "    with open(os.path.join(folder, \"params.json\"), \"w\") as f:\n",
    "        json.dump(params, f, indent=2)\n",
    "    print(f\"→ Launched {folder}\")\n",
    "\n",
    "# Launch all experiments\n",
    "for base in base_experiments:\n",
    "    for shell in shell_models:\n",
    "        params = {\n",
    "            \"dt\": base[\"dt\"],\n",
    "            \"dyn_dt_change\": base[\"dyn_dt_change\"],\n",
    "            \"bend\": base[\"bend\"],\n",
    "            \"strain-limit-eps\": base[\"strain-limit-eps\"],\n",
    "            \"contact-ghat\": base[\"contact-ghat\"],\n",
    "            \"model-shell\": shell,\n",
    "            \"frames\": 240,\n",
    "            \"cg-max-iter\": 100000,\n",
    "            \"cg-tol\": 1e-5,\n",
    "            \"fitting\": True,\n",
    "            \"friction\": base.get(\"friction\", 0.0)\n",
    "        }\n",
    "\n",
    "        folder_name = f\"{base['name']}_{shell}\"\n",
    "        out_folder = os.path.join(log_base, folder_name)\n",
    "        run_experiment(params, out_folder)\n"
   ]
  },
  {
   "cell_type": "code",
   "execution_count": null,
   "id": "657280fd-60b6-46eb-a2f6-031230a666c2",
   "metadata": {
    "scrolled": true
   },
   "outputs": [],
   "source": [
    "# regular, single-run params\n",
    "\n",
    "def run_simulation(shell_model, label):\n",
    "    param = (\n",
    "        app.session.param()\n",
    "        .set(\"fitting\")\n",
    "        .set(\"model-shell\", shell_model)\n",
    "        .set(\"dt\", 0.05)\n",
    "        .set(\"frames\", 240)\n",
    "        .set(\"friction\", 0.8)\n",
    "        .set(\"contact-ghat\", 1e-4)\n",
    "        .set(\"strain-limit-eps\", 0.01)\n",
    "        .set(\"output-folder\", f\"output_{label}\")\n",
    "    )\n",
    "\n",
    "    scene = app.load(\"fitting\", param)\n",
    "    session = app.session.create(scene)\n",
    "    session.run()\n",
    "    session.report()\n",
    "    return session\n",
    "\n",
    "\n",
    "param = (\n",
    "    app.session.param()\n",
    "    .set(\"fitting\")\n",
    "    .set(\"dt\", 0.05)\n",
    "    .set(\"frames\", 240)\n",
    "    .set(\"friction\", 0.0)\n",
    "    .set(\"model-shell\", \"arap\")\n",
    "    .set(\"contact-ghat\", 1e-4)\n",
    "    .set(\"strain-limit-eps\", 0.01)\n",
    "    #.set(\"contact-ghat\", 0.4e-3) # 0.5e3  parameter controls the activation threshold of contact. Lower values increase contact density:\n",
    "    #.set(\"strain-limit-eps\", 0.06) #0.1 Make it smaller to strongly limit how much the cloth can stretch\n",
    "    .set(\"cg-tol\", 1e-5)\n",
    "    .set(\"cg-max-iter\",100000)\n",
    "   # .set(\"bend\",17)\n",
    ")\n",
    "param.dyn(\"fitting\").time(0.15).hold().change(False)\n",
    "param.dyn(\"dt\").time(0.15).hold().change(0.0338)   #since 0.032 always converges but 0.034 fails \n",
    "\n",
    "session = app.session.create(fixed)\n",
    "session.start(param).preview()\n",
    "session.stream()\n",
    "\n",
    "# Run both simulations\n",
    "session_arap = run_simulation(\"arap\", \"arap\")\n",
    "session_bw = run_simulation(\"baraffwitkin\", \"bw\")\n",
    "\n"
   ]
  },
  {
   "cell_type": "code",
   "execution_count": null,
   "id": "b8ceb3d6-46ba-402b-ae1c-f2452ab71e9d",
   "metadata": {},
   "outputs": [],
   "source": []
  },
  {
   "cell_type": "code",
   "execution_count": 153,
   "id": "bd80c2b3-3999-4f03-be98-9cfd2301e5b1",
   "metadata": {},
   "outputs": [],
   "source": [
    "\n",
    "# # def run_experiment(params, exp_name=None):\n",
    "# def run_experiment(params, param_dict, exp_name=None):\n",
    "#     build_scene()\n",
    "    \n",
    "\n",
    "#     # Build the scene (you can keep your asset loading here if static)\n",
    "\n",
    "#     session = app.session.create(fixed)\n",
    "#     session.start(params).preview()\n",
    "#     session.stream()\n",
    "\n",
    "#     while not session.finished():\n",
    "#         pass\n",
    "#     if session.finished():\n",
    "#         print(\"session finished\")\n",
    "    \n",
    "\n",
    "#     # Auto-name everything\n",
    "#     timestamp = datetime.now().strftime(\"%Y%m%d-%H%M%S\")\n",
    "#     exp_name = exp_name or f\"exp_{timestamp}\"\n",
    "#     exp_dir = f\"./logs/{exp_name}\"\n",
    "#     os.makedirs(exp_dir, exist_ok=True)\n",
    "\n",
    "#     # Save structured logs\n",
    "#     logs = session.get.log.names()\n",
    "\n",
    "#     for logname in logs:\n",
    "#         numbers = session.get.log.numbers(logname)\n",
    "#         with open(f\"{exp_dir}/{logname}.csv\", \"w\") as f:\n",
    "#             f.write(\"frame,value\\n\")\n",
    "#             for frame, value in numbers:\n",
    "#                 f.write(f\"{frame},{value}\\n\")\n",
    "\n",
    "#     # Save stdout separately\n",
    "#     lines_to_write = session.get.log.stdout()\n",
    "#     with open(f\"{exp_dir}/stdout.txt\", \"w\") as f:\n",
    "#         f.writelines(line + '\\n' for line in lines_to_write)\n",
    "\n",
    "#     # Save parameters used for this experiment\n",
    "#     with open(f\"{exp_dir}/params.txt\", \"w\") as f:\n",
    "#         for key, value in param_dict.items():\n",
    "#             f.write(f\"{key}: {value}\\n\")\n",
    "#     print(f\"Experiment {exp_name} saved to {exp_dir}\")\n",
    "    \n",
    "#     return session.finished()\n",
    "\n",
    "\n",
    "\n",
    "\n",
    "    \n"
   ]
  },
  {
   "cell_type": "code",
   "execution_count": null,
   "id": "845dde9b-b4d6-476e-a6d2-e9265263820d",
   "metadata": {},
   "outputs": [
    {
     "name": "stderr",
     "output_type": "stream",
     "text": [
      "build: 100%|██████████████████████████| 10/10 [00:00<00:00, 42.12it/s]\n"
     ]
    },
    {
     "data": {
      "text/html": [
       "<table border=\"1\" class=\"dataframe table\">\n",
       "  <thead>\n",
       "    <tr style=\"text-align: right;\">\n",
       "      <th>#vert</th>\n",
       "      <th>#tri</th>\n",
       "      <th>#pin</th>\n",
       "      <th>#stitch_ind</th>\n",
       "    </tr>\n",
       "  </thead>\n",
       "  <tbody>\n",
       "    <tr>\n",
       "      <td>28,467</td>\n",
       "      <td>54,928</td>\n",
       "      <td>12,811</td>\n",
       "      <td>851</td>\n",
       "    </tr>\n",
       "  </tbody>\n",
       "</table>"
      ],
      "text/plain": [
       "<IPython.core.display.HTML object>"
      ]
     },
     "metadata": {},
     "output_type": "display_data"
    },
    {
     "data": {
      "application/vnd.jupyter.widget-view+json": {
       "model_id": "d09129af871840fba451b020b7bacade",
       "version_major": 2,
       "version_minor": 0
      },
      "text/plain": [
       "Renderer(camera=PerspectiveCamera(children=(DirectionalLight(position=(0.0, 0.0, 1.8741250038146973), quaterni…"
      ]
     },
     "metadata": {},
     "output_type": "display_data"
    },
    {
     "data": {
      "application/vnd.jupyter.widget-view+json": {
       "model_id": "1fa6fef9d83e46e6b079d07fd8e4d873",
       "version_major": 2,
       "version_minor": 0
      },
      "text/plain": [
       "interactive(children=(FloatSlider(value=0.0, description='time', max=3.5, step=0.01), Output()), _dom_classes=…"
      ]
     },
     "metadata": {},
     "output_type": "display_data"
    },
    {
     "data": {
      "application/vnd.jupyter.widget-view+json": {
       "model_id": "18ba8726996f49dd809a03672a4d7e53",
       "version_major": 2,
       "version_minor": 0
      },
      "text/plain": [
       "Renderer(camera=PerspectiveCamera(children=(DirectionalLight(position=(0.0, 0.0, 1.8741250038146973), quaterni…"
      ]
     },
     "metadata": {},
     "output_type": "display_data"
    },
    {
     "data": {
      "application/vnd.jupyter.widget-view+json": {
       "model_id": "238048258a3847d79dd324ec10904dca",
       "version_major": 2,
       "version_minor": 0
      },
      "text/plain": [
       "Button(description='Terminate Solver', style=ButtonStyle())"
      ]
     },
     "metadata": {},
     "output_type": "display_data"
    },
    {
     "data": {
      "application/vnd.jupyter.widget-view+json": {
       "model_id": "da1c15f764674b738a1760b4fa53ff6a",
       "version_major": 2,
       "version_minor": 0
      },
      "text/plain": [
       "HTML(value='')"
      ]
     },
     "metadata": {},
     "output_type": "display_data"
    },
    {
     "data": {
      "application/vnd.jupyter.widget-view+json": {
       "model_id": "5262e3783ce545a789c90cee66a3a25a",
       "version_major": 2,
       "version_minor": 0
      },
      "text/plain": [
       "HTML(value='')"
      ]
     },
     "metadata": {},
     "output_type": "display_data"
    },
    {
     "data": {
      "application/vnd.jupyter.widget-view+json": {
       "model_id": "96b17e72b34f4a608157db77602f9db2",
       "version_major": 2,
       "version_minor": 0
      },
      "text/plain": [
       "HBox(children=(Button(description='Stop Live Stream', style=ButtonStyle()), Button(description='Terminate Solv…"
      ]
     },
     "metadata": {},
     "output_type": "display_data"
    }
   ],
   "source": [
    "experiments = [\n",
    "     # {\"dt\": 1e-3, \"dyn_dt_change\": 0.01, \"bend\": 1}, base params\n",
    "    # {\"dt\": 0.01, \"dyn_dt_change\": 0.02, \"bend\": 5},\n",
    "    # {\"dt\": 0.01, \"dyn_dt_change\": 0.025, \"bend\": 10},\n",
    "    # {\"dt\": 0.01, \"dyn_dt_change\": 0.027, \"bend\": 15},\n",
    "    # {\"dt\": 0.01, \"dyn_dt_change\": 0.028, \"bend\": 15},\n",
    "    # {\"dt\": 0.01, \"dyn_dt_change\": 0.0284, \"bend\": 16},\n",
    "    # {\"dt\": 0.01, \"dyn_dt_change\": 0.0288, \"bend\": 16},\n",
    "    # {\"dt\": 0.01, \"dyn_dt_change\": 0.0298, \"bend\": 18},\n",
    "    #{\"dt\": 0.01, \"dyn_dt_change\": 0.032, \"bend\": 20},\n",
    "    #{\"dt\": 0.01, \"dyn_dt_change\": 0.035, \"bend\": 20},\n",
    "    {\"dt\": 0.01, \"dyn_dt_change\": 0.038, \"bend\": 54},\n",
    "    {\"dt\": 0.01, \"dyn_dt_change\": 0.040, \"bend\": 56},\n",
    "]\n",
    "# experiments = [\n",
    "#     {\"dt\": 0.01, \"dyn_dt_change\": 0.02, \"bend\": 5, \"strain-limit-eps\": 0.05},\n",
    "#     {\"dt\": 0.01, \"dyn_dt_change\": 0.025, \"bend\": 10, \"strain-limit-eps\": 0.02},\n",
    "#     {\"dt\": 0.015, \"dyn_dt_change\": 0.02, \"bend\": 5, \"strain-limit-eps\": 0.01},    #default strain\n",
    "#     {\"dt\": 0.02, \"dyn_dt_change\": 0.025, \"bend\": 5, \"strain-limit-eps\": 0.01},    #default strain\n",
    "#     {\"dt\": 0.01, \"dyn_dt_change\": 0.02, \"bend\": 5, \"contact-ghat\": 0.4e-3},\n",
    "#     {\"dt\": 0.01, \"dyn_dt_change\": 0.025, \"bend\": 10, \"contact-ghat\": 0.2e-3},\n",
    "# ]\n",
    "\n",
    "\n",
    "# param = (\n",
    "#     app.session.param()\n",
    "#     .set(\"fitting\")\n",
    "#     .set(\"dt\", 1e-3)\n",
    "#     .set(\"frames\", 240)\n",
    "#     .set(\"friction\", 0.0)\n",
    "#     .set(\"model-shell\", \"arap\")\n",
    "#     .set(\"contact-ghat\", 0.5e-3)\n",
    "#     .set(\"strain-limit-eps\", 0.1)\n",
    "# )\n",
    "# param.dyn(\"fitting\").time(0.15).hold().change(False)\n",
    "# param.dyn(\"dt\").time(0.15).hold().change(0.01)\n",
    "\n",
    "\n",
    "for idx, exp in enumerate(experiments):\n",
    "    param = (\n",
    "        app.session.param()\n",
    "        .set(\"fitting\")\n",
    "        .set(\"dt\", exp[\"dt\"])\n",
    "        .set(\"frames\", 240)\n",
    "        .set(\"friction\", 0.0)\n",
    "        .set(\"model-shell\", \"arap\")\n",
    "        .set(\"contact-ghat\", 0.5e-3)\n",
    "        .set(\"strain-limit-eps\", 0.1)\n",
    "        .set(\"cg-max-iter\",100000)\n",
    "        .set(\"cg-tol\",0.000001)\n",
    "        .set(\"bend\", exp[\"bend\"])\n",
    "    )\n",
    "    param.dyn(\"fitting\").time(0.15).hold().change(False)\n",
    "    param.dyn(\"dt\").time(0.15).hold().change(exp[\"dyn_dt_change\"])\n",
    "    new_idx = idx+9\n",
    "\n",
    "    sess = run_experiment(param, exp, exp_name=f\"dyn_dt_change_testlogz{new_idx+1}\")\n",
    "    print(sess)\n",
    "\n",
    "\n",
    "\n"
   ]
  },
  {
   "cell_type": "code",
   "execution_count": null,
   "id": "70afc5c0-563f-4c51-af82-11dfab983441",
   "metadata": {},
   "outputs": [],
   "source": []
  },
  {
   "cell_type": "code",
   "execution_count": null,
   "id": "5e5f29f7-7153-4a49-8299-463448e46a44",
   "metadata": {},
   "outputs": [],
   "source": [
    "experiments = [\n",
    "    # {\"dt\": 0.01, \"dyn_dt_change\": 0.02, \"bend\": 5, \"strain-limit-eps\": 0.05,\"contact-ghat\": 0.5e-3},\n",
    "    # {\"dt\": 0.01, \"dyn_dt_change\": 0.025, \"bend\": 10, \"strain-limit-eps\": 0.02,\"contact-ghat\": 0.5e-3},  does not run past 1st frame\n",
    "    {\"dt\": 0.01, \"dyn_dt_change\": 0.02, \"bend\": 5, \"strain-limit-eps\": 0.01,\"contact-ghat\": 0.5e-3},    #default strain\n",
    "    {\"dt\": 0.02, \"dyn_dt_change\": 0.025, \"bend\": 5, \"strain-limit-eps\": 0.01,\"contact-ghat\": 0.5e-3},    #default strain\n",
    "    {\"dt\": 0.01, \"dyn_dt_change\": 0.02, \"bend\": 5,\"strain-limit-eps\": 0.01, \"contact-ghat\": 0.4e-3},\n",
    "    {\"dt\": 0.01, \"dyn_dt_change\": 0.025, \"bend\": 10,\"strain-limit-eps\": 0.01, \"contact-ghat\": 0.2e-3},\n",
    "]\n",
    "\n",
    "for idx, exp in enumerate(experiments):\n",
    "    param = (\n",
    "        app.session.param()\n",
    "        .set(\"fitting\")\n",
    "        .set(\"dt\", exp[\"dt\"])\n",
    "        .set(\"frames\", 240)\n",
    "        .set(\"friction\", 0.0)\n",
    "        .set(\"model-shell\", \"arap\")\n",
    "        .set(\"contact-ghat\", exp[\"contact-ghat\"])\n",
    "        .set(\"strain-limit-eps\", exp[\"strain-limit-eps\"])\n",
    "        .set(\"cg-max-iter\",100000)\n",
    "        .set(\"cg-tol\",0.000001)\n",
    "        .set(\"bend\", exp[\"bend\"])\n",
    "    )\n",
    "    param.dyn(\"fitting\").time(0.15).hold().change(False)\n",
    "    param.dyn(\"dt\").time(0.15).hold().change(exp[\"dyn_dt_change\"])\n",
    "\n",
    "    sess = run_experiment(param, exp, exp_name=f\"strain3_run_{idx+1}\")\n",
    "    print(sess)"
   ]
  },
  {
   "cell_type": "code",
   "execution_count": 8,
   "id": "26654744-6cf9-4cac-a428-ad363121f308",
   "metadata": {},
   "outputs": [
    {
     "data": {
      "application/vnd.jupyter.widget-view+json": {
       "model_id": "82e9026c9f5b4596b89523e6c40a9fee",
       "version_major": 2,
       "version_minor": 0
      },
      "text/plain": [
       "Renderer(camera=PerspectiveCamera(children=(DirectionalLight(position=(0.0, 0.0, 1.8741250038146973), quaterni…"
      ]
     },
     "metadata": {},
     "output_type": "display_data"
    },
    {
     "data": {
      "application/vnd.jupyter.widget-view+json": {
       "model_id": "4a41b11a53bc4a7382fa30139b9218b5",
       "version_major": 2,
       "version_minor": 0
      },
      "text/plain": [
       "Button(description='Terminate Solver', style=ButtonStyle())"
      ]
     },
     "metadata": {},
     "output_type": "display_data"
    },
    {
     "data": {
      "application/vnd.jupyter.widget-view+json": {
       "model_id": "afdc168d4df74379bb49a0a0fb3afd8c",
       "version_major": 2,
       "version_minor": 0
      },
      "text/plain": [
       "HTML(value='')"
      ]
     },
     "metadata": {},
     "output_type": "display_data"
    },
    {
     "data": {
      "application/vnd.jupyter.widget-view+json": {
       "model_id": "3a9dd77729554f13bab2a2118a335b64",
       "version_major": 2,
       "version_minor": 0
      },
      "text/plain": [
       "HTML(value='')"
      ]
     },
     "metadata": {},
     "output_type": "display_data"
    },
    {
     "data": {
      "application/vnd.jupyter.widget-view+json": {
       "model_id": "1ec21f3f2da142d884f32ff4289ef645",
       "version_major": 2,
       "version_minor": 0
      },
      "text/plain": [
       "HBox(children=(Button(description='Stop Live Stream', style=ButtonStyle()), Button(description='Terminate Solv…"
      ]
     },
     "metadata": {},
     "output_type": "display_data"
    },
    {
     "data": {
      "text/plain": [
       "<frontend._session_.Session at 0x7b15b1fcb130>"
      ]
     },
     "execution_count": 8,
     "metadata": {},
     "output_type": "execute_result"
    }
   ],
   "source": [
    "# param = (\n",
    "#     app.session.param()\n",
    "#     .set(\"fitting\")\n",
    "#     .set(\"dt\", 0.01)\n",
    "#     .set(\"frames\", 200)\n",
    "#     .set(\"friction\", 0.0)\n",
    "#     .set(\"model-shell\", \"arap\")\n",
    "#     .set(\"contact-ghat\", 0.4e-3)\n",
    "#     .set(\"strain-limit-eps\", 0.1)\n",
    "#     .set(\"bend\", 5)\n",
    "#     # .set(\"area-density\", 1e3).set(\"volume-density\", 1e5)\n",
    "#     .set(\"cg-max-iter\",1000000)\n",
    "#     .set(\"cg-tol\",0.000001)\n",
    "# )\n",
    "param = (\n",
    "    app.session.param()\n",
    "    .set(\"fitting\")\n",
    "    .set(\"dt\", 0.015)\n",
    "    .set(\"frames\", 240)\n",
    "    .set(\"friction\", 0.0)\n",
    "    .set(\"model-shell\", \"arap\")\n",
    "    .set(\"contact-ghat\", 0.5e-3)\n",
    "    .set(\"strain-limit-eps\", 0.1)\n",
    "    .set(\"cg-max-iter\",100000)\n",
    "    .set(\"cg-tol\",0.000001)  #o.oo1 is orig, 0.000001 is the val from opencloth\n",
    "    .set(\"bend\", 10)\n",
    ")\n",
    "param.dyn(\"fitting\").time(0.15).hold().change(False)\n",
    "param.dyn(\"dt\").time(0.15).hold().change(0.03)\n",
    "session = app.session.create(fixed)\n",
    "session.start(param).preview()\n",
    "session.stream()\n",
    "\n",
    "# with these params ^^, i think the dress moves more realistically, but it fails to converge at frame 128-130\n",
    "\n",
    "# start with dt=(0.001,0.02 ) and see if it fails to converge at 128\n",
    "#if it converges, increase second dt val until it fails to converge agfain \n",
    "\n",
    "# the mora accurate the simulation (cg-tol), the smaller the time steps we need? \n",
    "# so if cg-tol = 0.00001, then we need dt to be less than 0.001?\n",
    "\n",
    "\n",
    "\n",
    "#param.dyn(\"fitting\").time(0.15).hold().change(False)\n",
    "#param.dyn(\"dt\").time(0.15).hold().change(0.04)\n",
    "# param.dyn(\"cg-max-iter\").time(0.15).hold().change(10e5)\n",
    "# param.dyn(\"cg-tol\").change(0.000001)\n",
    "\n",
    "\n",
    "\n"
   ]
  },
  {
   "cell_type": "code",
   "execution_count": 22,
   "id": "9e736f2a-1618-4ed0-b4f4-085ccc2eda48",
   "metadata": {},
   "outputs": [
    {
     "name": "stdout",
     "output_type": "stream",
     "text": [
      "\n",
      "thread 'main' panicked at src/backend.rs:235:17:\n",
      "failed to advance\n",
      "note: run with `RUST_BACKTRACE=1` environment variable to display a backtrace\n",
      "not\n"
     ]
    }
   ],
   "source": [
    "# print(session.finished())\n",
    "if session.finished():\n",
    "    print(\"finished\")\n",
    "else:\n",
    "    print(\"not\")\n",
    "logs = session.get.log.names()\n",
    "\n",
    "\n",
    "\n",
    "\n",
    "# Save stdout separately FIRST (always exists)\n",
    "# lines_to_write = session.get.log.stdout()\n",
    "# with open(f\"{exp_dir}/stdout.txt\", \"w\") as f:\n",
    "#         f.writelines(line + '\\n' for line in lines_to_write)\n",
    "\n"
   ]
  },
  {
   "cell_type": "code",
   "execution_count": 11,
   "id": "039a32a3-d25c-45b0-a01d-53e26021caed",
   "metadata": {},
   "outputs": [
    {
     "name": "stdout",
     "output_type": "stream",
     "text": [
      "avg per frame: 458.7063492063492\n",
      "avg newton steps: 2.730769230769231\n",
      "avg pcg iterations per newton step : 997.2277353689567\n"
     ]
    }
   ],
   "source": [
    "# get a list of log names\n",
    "logs = session.get.log.names()\n",
    "assert \"time-per-frame\" in logs\n",
    "assert \"newton-steps\" in logs\n",
    "assert \"pcg-iter\" in logs\n",
    "\n",
    "# get a list of time per video frame\n",
    "msec_per_video = session.get.log.numbers(\"time-per-frame\")\n",
    "\n",
    "# compute the average time per video frame\n",
    "print(\"avg per frame:\", sum([n for _, n in msec_per_video]) / len(msec_per_video))\n",
    "\n",
    "# get a list of newton steps\n",
    "newton_steps = session.get.log.numbers(\"newton-steps\")\n",
    "pcg_iterations = session.get.log.numbers(\"pcg-iter\")\n",
    "\n",
    "# compute the average of consumed newton steps\n",
    "print(\"avg newton steps:\", sum([n for _, n in newton_steps]) / len(newton_steps))\n",
    "print(\"avg pcg iterations per newton step :\", sum([n for _, n in pcg_iterations]) / len(pcg_iterations))\n",
    "\n",
    "def write_lines_to_file(filename, lines):\n",
    "    \"\"\"Writes each line from a list to a file.\n",
    "\n",
    "    Args:\n",
    "        filename: The name of the file to write to.\n",
    "        lines: A list of strings, where each string is a line to write.\n",
    "    \"\"\"\n",
    "    with open(filename, 'w') as file:\n",
    "        file.writelines(line + '\\n' for line in lines)\n",
    "\n",
    "# Example usage:\n",
    "lines_to_write = session.get.log.stdout()\n",
    "write_lines_to_file(\"stdout_test.txt\", lines_to_write)"
   ]
  },
  {
   "cell_type": "code",
   "execution_count": null,
   "id": "59c3bb3e-e461-4615-8cd4-7a4e69bb1797",
   "metadata": {},
   "outputs": [],
   "source": [
    "RUST_BACKTRACE=1"
   ]
  },
  {
   "cell_type": "code",
   "execution_count": null,
   "id": "9a004ff6-739f-480c-b082-08fe8f0643c0",
   "metadata": {},
   "outputs": [],
   "source": [
    "session.animate()"
   ]
  },
  {
   "cell_type": "code",
   "execution_count": null,
   "id": "11166aad-83b1-4bfd-8f1c-000aa745b7f7",
   "metadata": {},
   "outputs": [],
   "source": [
    "session.export.animation()"
   ]
  },
  {
   "cell_type": "code",
   "execution_count": null,
   "id": "8ded698a-c2fa-445b-8a0e-27dbc3e320ba",
   "metadata": {},
   "outputs": [],
   "source": [
    "# this is for CI\n",
    "assert session.finished()"
   ]
  },
  {
   "cell_type": "code",
   "execution_count": null,
   "id": "c20e4d19-b1ba-46f1-a6b5-e488dfe3add9",
   "metadata": {},
   "outputs": [],
   "source": [
    "def write_lines_to_file(filename, lines):\n",
    "    \"\"\"Writes each line from a list to a file.\n",
    "\n",
    "    Args:\n",
    "        filename: The name of the file to write to.\n",
    "        lines: A list of strings, where each string is a line to write.\n",
    "    \"\"\"\n",
    "    with open(filename, 'w') as file:\n",
    "        file.writelines(line + '\\n' for line in lines)\n",
    "\n",
    "# Example usage:\n",
    "lines_to_write = session.get.log.stdout()\n",
    "write_lines_to_file(\"ppf_sim_data_3mil.txt\", lines_to_write)\n",
    "\n",
    "# # Verify the content of the file (optional):\n",
    "# with open(\"ppf_sim_data2.txt\", 'r') as file:\n",
    "#     print(file.read())\n"
   ]
  },
  {
   "cell_type": "code",
   "execution_count": 2,
   "id": "6ec87618-4cd7-4092-b2c2-5935959cdc9c",
   "metadata": {},
   "outputs": [
    {
     "name": "stdout",
     "output_type": "stream",
     "text": [
      "✅ Logs zipped successfully: experiment_logs.zip\n"
     ]
    }
   ],
   "source": [
    "\n",
    "# Path to your logs folder\n",
    "logs_dir = \"./logs\"  # or whatever path you're saving them in\n",
    "zip_name = \"experiment_logs.zip\"\n",
    "\n",
    "# Make a ZIP file\n",
    "shutil.make_archive(base_name=zip_name.replace(\".zip\", \"\"), format='zip', root_dir=logs_dir)\n",
    "\n",
    "print(f\"✅ Logs zipped successfully: {zip_name}\")\n"
   ]
  },
  {
   "cell_type": "code",
   "execution_count": null,
   "id": "d68e2bd4-b9d5-4f33-a1f3-86d3f9c448ee",
   "metadata": {},
   "outputs": [],
   "source": []
  }
 ],
 "metadata": {
  "kernelspec": {
   "display_name": "Python 3 (ipykernel)",
   "language": "python",
   "name": "python3"
  },
  "language_info": {
   "codemirror_mode": {
    "name": "ipython",
    "version": 3
   },
   "file_extension": ".py",
   "mimetype": "text/x-python",
   "name": "python",
   "nbconvert_exporter": "python",
   "pygments_lexer": "ipython3",
   "version": "3.10.12"
  }
 },
 "nbformat": 4,
 "nbformat_minor": 5
}
