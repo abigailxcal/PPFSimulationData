{
 "cells": [
  {
   "cell_type": "code",
   "execution_count": 10,
   "id": "d1e26707-6880-4f55-aabb-157f95c64230",
   "metadata": {},
   "outputs": [],
   "source": [
    "# File: fitting.ipynb\n",
    "# Author: Ryoichi Ando (ryoichi.ando@zozo.com)\n",
    "# License: Apache v2.0"
   ]
  },
  {
   "cell_type": "code",
   "execution_count": null,
   "id": "f15476c9-4c6c-47e7-ace6-abfbf0aaea1d",
   "metadata": {},
   "outputs": [],
   "source": [
    "# One-time app and asset initialization\n",
    "import os\n",
    "import random\n",
    "import shutil\n",
    "from datetime import datetime\n",
    "from frontend import App\n",
    "\n",
    "app = App.create(\"batch_runner\")\n",
    "\n",
    "# Clone once\n",
    "codim_ipc_root = \"/tmp/Codim-IPC\"\n",
    "checkout_list = [\n",
    "    # \"Projects/FEMShell/input/dress_knife\",\n",
    "    \"Projects/FEMShell/input/multilayer\",\n",
    "    \"Projects/FEMShell/input/Rumba_Dancing\",\n",
    "]\n",
    "app.extra.sparse_clone(\n",
    "    \"https://github.com/ipc-sim/Codim-IPC\", codim_ipc_root, checkout_list\n",
    ")\n",
    "\n",
    "# Load meshes once\n",
    "stage_path = os.path.join(codim_ipc_root, checkout_list[0], \"stage.obj\")\n",
    "body_path = os.path.join(codim_ipc_root, checkout_list[1], \"shell0.obj\")\n",
    "\n",
    "V_dress, F_dress, S_stitch = app.extra.load_CIPC_stitch_mesh(stage_path)\n",
    "V_body, F_body = app.mesh.load_tri(body_path)\n",
    "\n",
    "# Load animation frames once\n",
    "body_dir = os.path.dirname(body_path)\n",
    "body_frames = []\n",
    "frame = 1\n",
    "while True:\n",
    "    path = os.path.join(body_dir, f\"shell{frame}.obj\")\n",
    "    if not os.path.exists(path):\n",
    "        break\n",
    "    Vf, _ = app.mesh.load_tri(path)\n",
    "    body_frames.append(Vf)\n",
    "    frame += 1\n",
    "\n",
    "def run_experiment(idx, params, param_dict, exp_name=None):\n",
    "    name = f\"scene_{idx}\"\n",
    "\n",
    "    # Build scene using cached geometry\n",
    "    app.asset.clear()\n",
    "    app.asset.add.tri(\"dress\", V_dress, F_dress)\n",
    "    app.asset.add.stitch(\"glue\", S_stitch)\n",
    "    app.asset.add.tri(\"body\", V_body, F_body)\n",
    "\n",
    "    scene = app.scene.create(name)\n",
    "    scene.add(\"dress\").stitch(\"glue\").rotate(-90, \"x\")\n",
    "\n",
    "    jitter = 0.01 * random.random()\n",
    "    body = scene.add(\"body\").at(0, -0.78 + jitter, 0).pin()\n",
    "\n",
    "    for i, V in enumerate(body_frames):\n",
    "        body.move_to(V, 0.5 + 0.025 * i)\n",
    "\n",
    "    fixed = scene.build().report()\n",
    "    fixed.preview(options={\"pin\": False})\n",
    "\n",
    "    session = app.session.create(fixed)\n",
    "    session.start(params).preview()\n",
    "    session.stream()\n",
    "    while not session.finished():\n",
    "        pass   \n",
    "    print(\"session finished\")\n",
    "    # Save logs\n",
    "    timestamp = datetime.now().strftime(\"%Y%m%d-%H%M%S\")\n",
    "    exp_name = exp_name or f\"exp_{timestamp}\"\n",
    "    exp_dir = f\"./logs/{exp_name}\"\n",
    "    os.makedirs(exp_dir, exist_ok=True)\n",
    "\n",
    "    for logname in session.get.log.names():\n",
    "        values = session.get.log.numbers(logname)\n",
    "        with open(f\"{exp_dir}/{logname}.csv\", \"w\") as f:\n",
    "            f.write(\"frame,value\\n\")\n",
    "            for frame, val in values:\n",
    "                f.write(f\"{frame},{val}\\n\")\n",
    "\n",
    "    with open(f\"{exp_dir}/stdout.txt\", \"w\") as f:\n",
    "        for line in session.get.log.stdout():\n",
    "            f.write(line + \"\\n\")\n",
    "\n",
    "    with open(f\"{exp_dir}/params.txt\", \"w\") as f:\n",
    "        for key, value in param_dict.items():\n",
    "            f.write(f\"{key}: {value}\\n\")\n",
    "\n",
    "    print(f\"Experiment {exp_name} saved to {exp_dir}\")\n",
    "    return session.finished()"
   ]
  },
  {
   "cell_type": "code",
   "execution_count": null,
   "id": "f37a1cee-de40-4eeb-ba3e-5ab364749660",
   "metadata": {},
   "outputs": [],
   "source": [
    "def run_experiment(idx, params, param_dict, exp_name=None):\n",
    "    name = f\"scene_{idx}\"\n",
    "    \n",
    "    # build scene using cached geometry\n",
    "    app.asset.clear()\n",
    "    app.asset.add.tri(\"dress\", V_dress, F_dress)\n",
    "    app.asset.add.stitch(\"glue\", S_stitch)\n",
    "    app.asset.add.tri(\"body\", V_body, F_body)\n",
    "\n",
    "    scene = app.scene.create(name)\n",
    "    scene.add(\"dress\").stitch(\"glue\").rotate(-90, \"x\")\n",
    "\n",
    "    jitter = 0.01 * random.random()\n",
    "    body = scene.add(\"body\").at(0, -0.78 + jitter, 0).pin()\n",
    "\n",
    "    for i, V in enumerate(body_frames):\n",
    "        body.move_to(V, 0.5 + 0.025 * i)\n",
    "\n",
    "    fixed = scene.build().report()\n",
    "    fixed.preview(options={\"pin\": False})\n",
    "\n",
    "    session = app.session.create(fixed)\n",
    "    session.start(params).preview()\n",
    "    session.stream()\n",
    "\n",
    "    while not session.finished():\n",
    "        pass\n",
    "\n",
    "    print(\"session finished\")\n",
    "\n",
    "    # logging\n",
    "    timestamp = datetime.now().strftime(\"%Y%m%d-%H%M%S\")\n",
    "    exp_name = exp_name or f\"exp_{timestamp}\"\n",
    "    exp_dir = f\"./logs/{exp_name}\"\n",
    "    os.makedirs(exp_dir, exist_ok=True)\n",
    "\n",
    "    for logname in session.get.log.names():\n",
    "        values = session.get.log.numbers(logname)\n",
    "        with open(f\"{exp_dir}/{logname}.csv\", \"w\") as f:\n",
    "            f.write(\"frame,value\\n\")\n",
    "            for frame, val in values:\n",
    "                f.write(f\"{frame},{val}\\n\")\n",
    "\n",
    "    with open(f\"{exp_dir}/stdout.txt\", \"w\") as f:\n",
    "        for line in session.get.log.stdout():\n",
    "            f.write(line + \"\\n\")\n",
    "\n",
    "    with open(f\"{exp_dir}/params.txt\", \"w\") as f:\n",
    "        for key, value in param_dict.items():\n",
    "            f.write(f\"{key}: {value}\\n\")\n",
    "\n",
    "    print(f\"Experiment {exp_name} saved to {exp_dir}\")\n",
    "    return session.finished()\n"
   ]
  },
  {
   "cell_type": "code",
   "execution_count": null,
   "id": "c8956c9a-7444-42aa-8c19-17b291331df4",
   "metadata": {},
   "outputs": [
    {
     "name": "stderr",
     "output_type": "stream",
     "text": [
      "build: 100%|██████████████████████████| 10/10 [00:00<00:00, 48.34it/s]\n"
     ]
    },
    {
     "data": {
      "text/html": [
       "<table border=\"1\" class=\"dataframe table\">\n",
       "  <thead>\n",
       "    <tr style=\"text-align: right;\">\n",
       "      <th>#vert</th>\n",
       "      <th>#tri</th>\n",
       "      <th>#pin</th>\n",
       "      <th>#stitch_ind</th>\n",
       "    </tr>\n",
       "  </thead>\n",
       "  <tbody>\n",
       "    <tr>\n",
       "      <td>43,275</td>\n",
       "      <td>84,159</td>\n",
       "      <td>12,811</td>\n",
       "      <td>791</td>\n",
       "    </tr>\n",
       "  </tbody>\n",
       "</table>"
      ],
      "text/plain": [
       "<IPython.core.display.HTML object>"
      ]
     },
     "metadata": {},
     "output_type": "display_data"
    },
    {
     "data": {
      "application/vnd.jupyter.widget-view+json": {
       "model_id": "2785de7f82b647dea7dc8de9f2947d0c",
       "version_major": 2,
       "version_minor": 0
      },
      "text/plain": [
       "Renderer(camera=PerspectiveCamera(children=(DirectionalLight(position=(0.0, 0.0, 1.8948011100292206), quaterni…"
      ]
     },
     "metadata": {},
     "output_type": "display_data"
    },
    {
     "data": {
      "application/vnd.jupyter.widget-view+json": {
       "model_id": "79dda54c78ae4d1dbc7b350f558d1464",
       "version_major": 2,
       "version_minor": 0
      },
      "text/plain": [
       "interactive(children=(FloatSlider(value=0.0, description='time', max=3.475, step=0.01), Output()), _dom_classe…"
      ]
     },
     "metadata": {},
     "output_type": "display_data"
    },
    {
     "data": {
      "application/vnd.jupyter.widget-view+json": {
       "model_id": "1fa714cb85c045a3b9f4da09ff58595c",
       "version_major": 2,
       "version_minor": 0
      },
      "text/plain": [
       "Renderer(camera=PerspectiveCamera(children=(DirectionalLight(position=(0.0, 0.0, 1.8948011100292206), quaterni…"
      ]
     },
     "metadata": {},
     "output_type": "display_data"
    },
    {
     "data": {
      "application/vnd.jupyter.widget-view+json": {
       "model_id": "244aee9ae46e4a9cb4a19ed61debe6ec",
       "version_major": 2,
       "version_minor": 0
      },
      "text/plain": [
       "HBox(children=(Button(description='Terminate Solver', style=ButtonStyle()), Button(description='Save and Quit'…"
      ]
     },
     "metadata": {},
     "output_type": "display_data"
    },
    {
     "data": {
      "application/vnd.jupyter.widget-view+json": {
       "model_id": "407cfa7a01da468bb1f5051aef286b30",
       "version_major": 2,
       "version_minor": 0
      },
      "text/plain": [
       "HTML(value='')"
      ]
     },
     "metadata": {},
     "output_type": "display_data"
    },
    {
     "data": {
      "application/vnd.jupyter.widget-view+json": {
       "model_id": "4c0a0c4ddf5f4dcfa864bdcc30cdb27e",
       "version_major": 2,
       "version_minor": 0
      },
      "text/plain": [
       "HTML(value='')"
      ]
     },
     "metadata": {},
     "output_type": "display_data"
    },
    {
     "data": {
      "application/vnd.jupyter.widget-view+json": {
       "model_id": "b7cb21187653487ea2fb0d4f6714d4a6",
       "version_major": 2,
       "version_minor": 0
      },
      "text/plain": [
       "HBox(children=(Button(description='Stop Live Stream', style=ButtonStyle()), Button(description='Terminate Solv…"
      ]
     },
     "metadata": {},
     "output_type": "display_data"
    },
    {
     "name": "stdout",
     "output_type": "stream",
     "text": [
      "session finished\n",
      "Experiment high_iter3_baraffwitkin saved to ./logs/high_iter3_baraffwitkin\n",
      "True\n"
     ]
    },
    {
     "name": "stderr",
     "output_type": "stream",
     "text": [
      "build: 100%|██████████████████████████| 10/10 [00:00<00:00, 45.50it/s]\n"
     ]
    },
    {
     "data": {
      "text/html": [
       "<table border=\"1\" class=\"dataframe table\">\n",
       "  <thead>\n",
       "    <tr style=\"text-align: right;\">\n",
       "      <th>#vert</th>\n",
       "      <th>#tri</th>\n",
       "      <th>#pin</th>\n",
       "      <th>#stitch_ind</th>\n",
       "    </tr>\n",
       "  </thead>\n",
       "  <tbody>\n",
       "    <tr>\n",
       "      <td>43,275</td>\n",
       "      <td>84,159</td>\n",
       "      <td>12,811</td>\n",
       "      <td>791</td>\n",
       "    </tr>\n",
       "  </tbody>\n",
       "</table>"
      ],
      "text/plain": [
       "<IPython.core.display.HTML object>"
      ]
     },
     "metadata": {},
     "output_type": "display_data"
    },
    {
     "data": {
      "application/vnd.jupyter.widget-view+json": {
       "model_id": "b6c2f387a744436eb95ca00247f46107",
       "version_major": 2,
       "version_minor": 0
      },
      "text/plain": [
       "Renderer(camera=PerspectiveCamera(children=(DirectionalLight(position=(0.0, 0.0, 1.8879005312919617), quaterni…"
      ]
     },
     "metadata": {},
     "output_type": "display_data"
    },
    {
     "data": {
      "application/vnd.jupyter.widget-view+json": {
       "model_id": "766c0c714cd944b6b3d6607b441ab10b",
       "version_major": 2,
       "version_minor": 0
      },
      "text/plain": [
       "interactive(children=(FloatSlider(value=0.0, description='time', max=3.475, step=0.01), Output()), _dom_classe…"
      ]
     },
     "metadata": {},
     "output_type": "display_data"
    },
    {
     "data": {
      "application/vnd.jupyter.widget-view+json": {
       "model_id": "2bc3444ef1474a549dd4fa8ef2ba0477",
       "version_major": 2,
       "version_minor": 0
      },
      "text/plain": [
       "Renderer(camera=PerspectiveCamera(children=(DirectionalLight(position=(0.0, 0.0, 1.8879005312919617), quaterni…"
      ]
     },
     "metadata": {},
     "output_type": "display_data"
    },
    {
     "data": {
      "application/vnd.jupyter.widget-view+json": {
       "model_id": "9167fafd8396400c9d5c4c880cbc3254",
       "version_major": 2,
       "version_minor": 0
      },
      "text/plain": [
       "HBox(children=(Button(description='Terminate Solver', style=ButtonStyle()), Button(description='Save and Quit'…"
      ]
     },
     "metadata": {},
     "output_type": "display_data"
    },
    {
     "data": {
      "application/vnd.jupyter.widget-view+json": {
       "model_id": "3b332fd204fb4671bb06f0b7b7ef7a3c",
       "version_major": 2,
       "version_minor": 0
      },
      "text/plain": [
       "HTML(value='')"
      ]
     },
     "metadata": {},
     "output_type": "display_data"
    },
    {
     "data": {
      "application/vnd.jupyter.widget-view+json": {
       "model_id": "4540ec4626054f1b8833bf561802b16a",
       "version_major": 2,
       "version_minor": 0
      },
      "text/plain": [
       "HTML(value='')"
      ]
     },
     "metadata": {},
     "output_type": "display_data"
    },
    {
     "data": {
      "application/vnd.jupyter.widget-view+json": {
       "model_id": "728cf42e6e9e473ba8d4a1aadd4f5cc3",
       "version_major": 2,
       "version_minor": 0
      },
      "text/plain": [
       "HBox(children=(Button(description='Stop Live Stream', style=ButtonStyle()), Button(description='Terminate Solv…"
      ]
     },
     "metadata": {},
     "output_type": "display_data"
    },
    {
     "name": "stdout",
     "output_type": "stream",
     "text": [
      "session finished\n",
      "Experiment high_iter4_baraffwitkin saved to ./logs/high_iter4_baraffwitkin\n",
      "True\n"
     ]
    },
    {
     "name": "stderr",
     "output_type": "stream",
     "text": [
      "build: 100%|██████████████████████████| 10/10 [00:00<00:00, 46.55it/s]\n"
     ]
    },
    {
     "data": {
      "text/html": [
       "<table border=\"1\" class=\"dataframe table\">\n",
       "  <thead>\n",
       "    <tr style=\"text-align: right;\">\n",
       "      <th>#vert</th>\n",
       "      <th>#tri</th>\n",
       "      <th>#pin</th>\n",
       "      <th>#stitch_ind</th>\n",
       "    </tr>\n",
       "  </thead>\n",
       "  <tbody>\n",
       "    <tr>\n",
       "      <td>43,275</td>\n",
       "      <td>84,159</td>\n",
       "      <td>12,811</td>\n",
       "      <td>791</td>\n",
       "    </tr>\n",
       "  </tbody>\n",
       "</table>"
      ],
      "text/plain": [
       "<IPython.core.display.HTML object>"
      ]
     },
     "metadata": {},
     "output_type": "display_data"
    },
    {
     "data": {
      "application/vnd.jupyter.widget-view+json": {
       "model_id": "3236b250904f4bff9ddf58166838771a",
       "version_major": 2,
       "version_minor": 0
      },
      "text/plain": [
       "Renderer(camera=PerspectiveCamera(children=(DirectionalLight(position=(0.0, 0.0, 1.8853197991847992), quaterni…"
      ]
     },
     "metadata": {},
     "output_type": "display_data"
    },
    {
     "data": {
      "application/vnd.jupyter.widget-view+json": {
       "model_id": "afde20135dfd4effbec1b066a18818ed",
       "version_major": 2,
       "version_minor": 0
      },
      "text/plain": [
       "interactive(children=(FloatSlider(value=0.0, description='time', max=3.475, step=0.01), Output()), _dom_classe…"
      ]
     },
     "metadata": {},
     "output_type": "display_data"
    },
    {
     "data": {
      "application/vnd.jupyter.widget-view+json": {
       "model_id": "bccdb7dd8563473b8a009d4366645ebf",
       "version_major": 2,
       "version_minor": 0
      },
      "text/plain": [
       "Renderer(camera=PerspectiveCamera(children=(DirectionalLight(position=(0.0, 0.0, 1.8853197991847992), quaterni…"
      ]
     },
     "metadata": {},
     "output_type": "display_data"
    },
    {
     "data": {
      "application/vnd.jupyter.widget-view+json": {
       "model_id": "76d150aac0db4a06a383c5c984b9d22b",
       "version_major": 2,
       "version_minor": 0
      },
      "text/plain": [
       "HBox(children=(Button(description='Terminate Solver', style=ButtonStyle()), Button(description='Save and Quit'…"
      ]
     },
     "metadata": {},
     "output_type": "display_data"
    },
    {
     "data": {
      "application/vnd.jupyter.widget-view+json": {
       "model_id": "7f8c3a6d53d2428999219768ab810455",
       "version_major": 2,
       "version_minor": 0
      },
      "text/plain": [
       "HTML(value='')"
      ]
     },
     "metadata": {},
     "output_type": "display_data"
    },
    {
     "data": {
      "application/vnd.jupyter.widget-view+json": {
       "model_id": "848b0f2a089d4e818b335af0669441eb",
       "version_major": 2,
       "version_minor": 0
      },
      "text/plain": [
       "HTML(value='')"
      ]
     },
     "metadata": {},
     "output_type": "display_data"
    },
    {
     "data": {
      "application/vnd.jupyter.widget-view+json": {
       "model_id": "d85be49217304d0cb02bd789a34ce16f",
       "version_major": 2,
       "version_minor": 0
      },
      "text/plain": [
       "HBox(children=(Button(description='Stop Live Stream', style=ButtonStyle()), Button(description='Terminate Solv…"
      ]
     },
     "metadata": {},
     "output_type": "display_data"
    },
    {
     "name": "stdout",
     "output_type": "stream",
     "text": [
      "session finished\n",
      "Experiment high_iter5_baraffwitkin saved to ./logs/high_iter5_baraffwitkin\n",
      "True\n"
     ]
    }
   ],
   "source": [
    "# Define experiment configurations\n",
    "base_experiments = [\n",
    "    {\n",
    "        \"name\": \"strain_sweep_0.15\",\n",
    "        \"dt\": 0.002,\n",
    "        \"dyn_dt_change\": 0.037,\n",
    "        \"bend\": 20,\n",
    "        \"strain-limit-eps\": 0.15,\n",
    "        \"contact-ghat\": 0.8e-3,\n",
    "         \"friction\": 0.02,\n",
    "        \n",
    "    },\n",
    "    {\n",
    "        \"name\": \"strain_sweep_0.2\",\n",
    "        \"dt\": 0.002,\n",
    "        \"dyn_dt_change\": 0.037,\n",
    "        \"bend\": 20,\n",
    "        \"strain-limit-eps\": 0.2,\n",
    "        \"contact-ghat\": 0.8e-3,\n",
    "        \"friction\": 0.02,\n",
    "    },\n",
    "    {\n",
    "        \"name\": \"strain_sweep_0.27\",\n",
    "        \"dt\": 0.002,\n",
    "        \"dyn_dt_change\": 0.037,\n",
    "        \"bend\": 20,\n",
    "        \"strain-limit-eps\": 0.17,\n",
    "        \"contact-ghat\": 0.8e-3,\n",
    "        \"friction\": 0.02,\n",
    "    },\n",
    "    {\n",
    "        \"name\": \"friction_high\",\n",
    "        \"dt\": 0.002,\n",
    "        \"dyn_dt_change\": 0.037,\n",
    "        \"bend\": 20,\n",
    "        \"strain-limit-eps\": 0.08,\n",
    "        \"contact-ghat\": 0.5e-3,\n",
    "        \"friction\": 0.09,\n",
    "    },\n",
    "    {\n",
    "        \"name\": \"dt_large_0.055\",\n",
    "        \"dt\": 0.002,\n",
    "        \"dyn_dt_change\": 0.055,\n",
    "        \"bend\": 20,\n",
    "        \"strain-limit-eps\": 0.08,\n",
    "        \"contact-ghat\": 0.5e-3,\n",
    "    },\n",
    "    {\n",
    "        \"name\": \"contact_sweep\",\n",
    "        \"dt\": 0.007,\n",
    "        \"dyn_dt_change\": 0.04,\n",
    "        \"bend\": 5,\n",
    "        \"strain-limit-eps\": 0.02,\n",
    "        \"contact-ghat\": 1e-4,\n",
    "    },\n",
    "]\n",
    "\n",
    "contact_experiments = [\n",
    "    {\n",
    "        \"name\": \"contact_sweep_0.7e-3\",\n",
    "        \"dt\": 0.002,\n",
    "        \"dyn_dt_change\": 0.037,\n",
    "        \"bend\": 20,\n",
    "        \"strain-limit-eps\": 0.1,\n",
    "        \"contact-ghat\": 0.7e-3,\n",
    "        \"friction\": 0.02,\n",
    "    },\n",
    "     {\n",
    "        \"name\": \"contact_sweep_0.6e-3\",\n",
    "        \"dt\": 0.002,\n",
    "        \"dyn_dt_change\": 0.037,\n",
    "        \"bend\": 20,\n",
    "        \"strain-limit-eps\": 0.1,\n",
    "        \"contact-ghat\": 0.6e-3,\n",
    "        \"friction\": 0.02,\n",
    "    },\n",
    "     {\n",
    "        \"name\": \"contact_sweep_0.5e-3\",\n",
    "        \"dt\": 0.002,\n",
    "        \"dyn_dt_change\": 0.037,\n",
    "        \"bend\": 20,\n",
    "        \"strain-limit-eps\": 0.1,\n",
    "        \"contact-ghat\": 0.5e-3,\n",
    "        \"friction\": 0.02,\n",
    "    },\n",
    "]\n",
    "\n",
    "\n",
    "\n",
    "strain_experiments  = [\n",
    "    {\n",
    "        \"name\": \"strain_sweep_0.08\",\n",
    "        \"dt\": 0.002,\n",
    "        \"dyn_dt_change\": 0.037,\n",
    "        \"bend\": 20,\n",
    "        \"strain-limit-eps\": 0.08,\n",
    "        \"contact-ghat\": 0.8e-3,\n",
    "         \"friction\": 0.02,\n",
    "        \n",
    "    },\n",
    "    {\n",
    "        \"name\": \"strain_sweep_0.06\",\n",
    "        \"dt\": 0.002,\n",
    "        \"dyn_dt_change\": 0.037,\n",
    "        \"bend\": 20,\n",
    "        \"strain-limit-eps\": 0.06,\n",
    "        \"contact-ghat\": 0.8e-3,\n",
    "        \"friction\": 0.02,\n",
    "    },\n",
    "    {\n",
    "        \"name\": \"strain_sweep_0.05\",\n",
    "        \"dt\": 0.002,\n",
    "        \"dyn_dt_change\": 0.037,\n",
    "        \"bend\": 20,\n",
    "        \"strain-limit-eps\": 0.05,\n",
    "        \"contact-ghat\": 0.8e-3,\n",
    "        \"friction\": 0.02,\n",
    "    },\n",
    "    #  {\n",
    "    #     \"name\": \"strain_sweep_0.3\",\n",
    "    #     \"dt\": 0.002,\n",
    "    #     \"dyn_dt_change\": 0.037,\n",
    "    #     \"bend\": 20,\n",
    "    #     \"strain-limit-eps\": 0.3,\n",
    "    #     \"contact-ghat\": 0.8e-3,\n",
    "    #     \"friction\": 0.02,\n",
    "    # },\n",
    "]\n",
    "\n",
    "friction_experiments = [\n",
    "    {\n",
    "        \"name\": \"friction_sweep_0.05\",\n",
    "        \"dt\": 0.002,\n",
    "        \"dyn_dt_change\": 0.037,\n",
    "        \"bend\": 20,\n",
    "        \"strain-limit-eps\": 0.1,\n",
    "        \"contact-ghat\": 0.8e-3,\n",
    "        \"friction\": 0.05,\n",
    "    },\n",
    "     {\n",
    "        \"name\": \"friction_sweep_0.07\",\n",
    "        \"dt\": 0.002,\n",
    "        \"dyn_dt_change\": 0.037,\n",
    "        \"bend\": 20,\n",
    "        \"strain-limit-eps\": 0.1,\n",
    "        \"contact-ghat\": 0.8e-3,\n",
    "        \"friction\": 0.07,\n",
    "    },\n",
    "     {\n",
    "        \"name\": \"friction_sweep_0.1\",\n",
    "        \"dt\": 0.002,\n",
    "        \"dyn_dt_change\": 0.037,\n",
    "        \"bend\": 20,\n",
    "        \"strain-limit-eps\": 0.1,\n",
    "        \"contact-ghat\": 0.8e-3,\n",
    "        \"friction\": 0.1,\n",
    "    },\n",
    "]\n",
    "\n",
    "dt_experiments = [\n",
    "    {\n",
    "        \"name\": \"dyn_dt_sweep_0.04\",\n",
    "        \"dt\": 0.002,\n",
    "        \"dyn_dt_change\": 0.04,\n",
    "        \"bend\": 20,\n",
    "        \"strain-limit-eps\": 0.15,\n",
    "        \"contact-ghat\": 0.7e-3,\n",
    "        \"friction\": 0.02,\n",
    "    },\n",
    "     {\n",
    "        \"name\": \"dyn_dt_sweep_0.045\",\n",
    "        \"dt\": 0.002,\n",
    "        \"dyn_dt_change\": 0.045,\n",
    "        \"bend\": 20,\n",
    "        \"strain-limit-eps\": 0.2,\n",
    "        \"contact-ghat\": 0.8e-3,\n",
    "        \"friction\": 0.02,\n",
    "    },\n",
    "     {\n",
    "        \"name\": \"dyn_dt_sweep_0.05\",\n",
    "        \"dt\": 0.002,\n",
    "        \"dyn_dt_change\": 0.05,\n",
    "        \"bend\": 20,\n",
    "        \"strain-limit-eps\": 0.2,\n",
    "        \"contact-ghat\": 0.8e-3,\n",
    "        \"friction\": 0.02,\n",
    "    },\n",
    "]\n",
    "\n",
    "dt2_experiments = [\n",
    "    {\n",
    "        \"name\": \"dyn_dt_sweep_0.052\",\n",
    "        \"dt\": 0.002,\n",
    "        \"dyn_dt_change\": 0.52,\n",
    "        \"bend\": 30,\n",
    "        \"strain-limit-eps\": 0.15,\n",
    "        \"contact-ghat\": 0.6e-3,\n",
    "        \"friction\": 0.02,\n",
    "    },\n",
    "     {\n",
    "        \"name\": \"dyn_dt_sweep_0.055\",\n",
    "        \"dt\": 0.002,\n",
    "        \"dyn_dt_change\": 0.055,\n",
    "        \"bend\": 30,\n",
    "        \"strain-limit-eps\": 0.2,\n",
    "        \"contact-ghat\": 0.6e-3,\n",
    "        \"friction\": 0.02,\n",
    "    },\n",
    "     {\n",
    "        \"name\": \"dyn_dt_sweep_0.58\",\n",
    "        \"dt\": 0.002,\n",
    "        \"dyn_dt_change\": 0.058,\n",
    "        \"bend\": 30,\n",
    "        \"strain-limit-eps\": 0.2,\n",
    "        \"contact-ghat\": 0.6e-3,\n",
    "        \"friction\": 0.02,\n",
    "    },\n",
    "]\n",
    "dt3_experiments = [\n",
    "    {\n",
    "        \"name\": \"dyn_dt_sweep3_0.06\",\n",
    "        \"dt\": 0.003,\n",
    "        \"dyn_dt_change\": 0.06,\n",
    "        \"bend\": 20,\n",
    "        \"strain-limit-eps\": 0.09,\n",
    "        \"contact-ghat\": 0.4e-3,\n",
    "        \"friction\": 0.02,\n",
    "    },\n",
    "     {\n",
    "        \"name\": \"dyn_dt_sweep3_0.065\",\n",
    "        \"dt\": 0.004,\n",
    "        \"dyn_dt_change\": 0.065,\n",
    "        \"bend\": 20,\n",
    "        \"strain-limit-eps\": 0.09,\n",
    "        \"contact-ghat\": 0.5e-3,\n",
    "        \"friction\": 0.02,\n",
    "    },\n",
    "     {\n",
    "        \"name\": \"dyn_dt_sweep3_0.68\",\n",
    "        \"dt\": 0.004,\n",
    "        \"dyn_dt_change\": 0.068,\n",
    "        \"bend\": 20,\n",
    "        \"strain-limit-eps\": 0.09,\n",
    "        \"contact-ghat\": 0.5e-3,\n",
    "        \"friction\": 0.02,\n",
    "    },\n",
    "]\n",
    "dt4_experiments = [\n",
    "    {\n",
    "        \"name\": \"dyn_dt_sweep3_0.03\",\n",
    "        \"dt\": 0.004,\n",
    "        \"dyn_dt_change\": 0.04,\n",
    "        \"bend\": 20,\n",
    "        \"strain-limit-eps\": 0.15,\n",
    "        \"contact-ghat\": 0.5e-3,\n",
    "        \"friction\": 0.02,\n",
    "    },\n",
    "     {\n",
    "        \"name\": \"dyn_dt_sweep3_0.04\",#yess\n",
    "        \"dt\": 0.004,\n",
    "        \"dyn_dt_change\": 0.04,\n",
    "        \"bend\": 20,\n",
    "        \"strain-limit-eps\": 0.15,\n",
    "        \"contact-ghat\": 0.2e-3,\n",
    "        \"friction\": 0.02,\n",
    "    },\n",
    "     {\n",
    "        \"name\": \"dyn_dt_sweep3_0.45\",#failed!\n",
    "        \"dt\": 0.004,\n",
    "        \"dyn_dt_change\": 0.045,\n",
    "        \"bend\": 20,\n",
    "        \"strain-limit-eps\": 0.09,\n",
    "        \"contact-ghat\": 0.4e-3,\n",
    "        \"friction\": 0.02,\n",
    "    },\n",
    "]\n",
    "\n",
    "high_iter =  [\n",
    "    {\n",
    "        \"name\": \"high_iter1\",\n",
    "        \"dt\": 0.004,\n",
    "        \"dyn_dt_change\": 0.04,\n",
    "        \"bend\": 25,\n",
    "        \"strain-limit-eps\": 0.12,\n",
    "        \"contact-ghat\": 0.4e-3,\n",
    "        \"friction\": 0.02,\n",
    "    },\n",
    "     {\n",
    "        \"name\": \"high_iter2\",#yess\n",
    "        \"dt\": 0.004,\n",
    "        \"dyn_dt_change\": 0.044,\n",
    "        \"bend\": 25,\n",
    "        \"strain-limit-eps\": 0.11,\n",
    "        \"contact-ghat\": 0.3e-3,\n",
    "        \"friction\": 0.02,\n",
    "    },\n",
    "     {\n",
    "        \"name\": \"high_iter3\",#ripped at shoulder\n",
    "        \"dt\": 0.004,\n",
    "        \"dyn_dt_change\": 0.045,\n",
    "        \"bend\": 25,\n",
    "        \"strain-limit-eps\": 0.09,\n",
    "        \"contact-ghat\": 0.5e-3,\n",
    "        \"friction\": 0.02,\n",
    "    },\n",
    "]\n",
    "\n",
    "high_iter2 =  [\n",
    "    {\n",
    "        \"name\": \"high_iter3\",\n",
    "        \"dt\": 0.004,\n",
    "        \"dyn_dt_change\": 0.047,\n",
    "        \"bend\": 25,\n",
    "        \"strain-limit-eps\": 0.10,\n",
    "        \"contact-ghat\": 0.3e-3,\n",
    "        \"friction\": 0.02,\n",
    "    },\n",
    "     {\n",
    "        \"name\": \"high_iter4\",#yess\n",
    "        \"dt\": 0.004,\n",
    "        \"dyn_dt_change\": 0.049,\n",
    "        \"bend\": 25,\n",
    "        \"strain-limit-eps\": 0.11,\n",
    "        \"contact-ghat\": 0.2e-3,\n",
    "        \"friction\": 0.02,\n",
    "    },\n",
    "     {\n",
    "        \"name\": \"high_iter5\",#ripped at shoulder\n",
    "        \"dt\": 0.004,\n",
    "        \"dyn_dt_change\": 0.05,\n",
    "        \"bend\": 35,\n",
    "        \"strain-limit-eps\": 0.099,\n",
    "        \"contact-ghat\": 0.3e-3,\n",
    "        \"friction\": 0.02,\n",
    "    },\n",
    "]\n",
    "\n",
    "high_iter3 =  [\n",
    "    {\n",
    "        \"name\": \"high_iter6\",\n",
    "        \"dt\": 0.004,\n",
    "        \"dyn_dt_change\": 0.052,\n",
    "        \"bend\": 35,\n",
    "        \"strain-limit-eps\": 0.10,\n",
    "        \"contact-ghat\": 0.3e-3,\n",
    "        \"friction\": 0.02,\n",
    "    },\n",
    "     {\n",
    "        \"name\": \"high_iter7\",#yess          # failed! \n",
    "        \"dt\": 0.004,\n",
    "        \"dyn_dt_change\": 0.055,\n",
    "        \"bend\": 35,\n",
    "        \"strain-limit-eps\": 0.11,\n",
    "        \"contact-ghat\": 0.2e-3,\n",
    "        \"friction\": 0.02,\n",
    "    },\n",
    "     {\n",
    "        \"name\": \"high_iter8\",#ripped at shoulder\n",
    "        \"dt\": 0.004,\n",
    "        \"dyn_dt_change\": 0.057,\n",
    "        \"bend\": 35,\n",
    "        \"strain-limit-eps\": 0.099,\n",
    "        \"contact-ghat\": 0.2e-3,\n",
    "        \"friction\": 0.02,\n",
    "    },\n",
    "]\n",
    "\n",
    "\n",
    "high_iter4 = [\n",
    "    {\n",
    "        \"name\": \"high_iter8\",\n",
    "        \"dt\": 0.004,\n",
    "        \"dyn_dt_change\": 0.036,\n",
    "        \"bend\": 25,\n",
    "        \"strain-limit-eps\": 0.1,\n",
    "        \"contact-ghat\": 0.27e-3,\n",
    "        \"friction\": 0.002,\n",
    "    },\n",
    "\n",
    "    {\n",
    "        \"name\": \"high_iter12\",  \n",
    "        \"dt\": 0.004,\n",
    "        \"dyn_dt_change\": 0.04,\n",
    "        \"bend\": 25,\n",
    "        \"strain-limit-eps\": 0.15,\n",
    "        \"contact-ghat\": 0.25e-3,\n",
    "        \"friction\": 0.01,\n",
    "    },\n",
    "    {\n",
    "        \"name\": \"high_iter9\", #fail\n",
    "        \"dt\": 0.004,\n",
    "        \"dyn_dt_change\": 0.050,\n",
    "        \"bend\": 35,\n",
    "        \"strain-limit-eps\": 0.5,\n",
    "        \"contact-ghat\": 0.25e-3,\n",
    "        \"friction\": 0.002,\n",
    "    },\n",
    "    {\n",
    "        \"name\": \"high_iter10\",   #fail\n",
    "        \"dt\": 0.004,\n",
    "        \"dyn_dt_change\": 0.055,\n",
    "        \"bend\": 25,\n",
    "        \"strain-limit-eps\": 0.09,\n",
    "        \"contact-ghat\": 0.4e-3,\n",
    "        \"friction\": 0.01,\n",
    "    },\n",
    "    {\n",
    "        \"name\": \"high_iter11\", \n",
    "        \"dt\": 0.004,\n",
    "        \"dyn_dt_change\": 0.057,\n",
    "        \"bend\": 35,\n",
    "        \"strain-limit-eps\": 0.099,\n",
    "        \"contact-ghat\": 0.2e-3,\n",
    "        \"friction\": 0.02,\n",
    "    },\n",
    "]\n",
    "\n",
    "fabric_experiments = [\n",
    "    {\"name\": \"silk\",\"dt\": 0.004, \"dyn_dt_change\": 0.02, \"strain-limit-eps\": 0.1, \"bend\": 1, \"area-density\": 1000, \"contact-ghat\": 0.0004, \"friction\": 0.1},\n",
    "    {\"name\": \"chiffon\",\"dt\": 0.004,  \"dyn_dt_change\": 0.02,\"strain-limit-eps\": 0.15, \"bend\": 0.5, \"area-density\": 500, \"contact-ghat\": 0.0003, \"friction\": 0.05},\n",
    "]\n",
    "\n",
    "for idx, fabric in enumerate(fabric_experiments):\n",
    "    param = app.session.param().set(\"model-shell\", \"baraffwitkin\") \n",
    "    run_experiment(idx, param, fabric, exp_name=f\"fabric_{fabric['name']}\")\n",
    "\n",
    "\n",
    "\n",
    "\n",
    "shell_models = [\"arap\", \"baraffwitkin\"]\n",
    "\n",
    "# Run all experiments\n",
    "for idx, exp in enumerate(high_iter3):\n",
    "    param = (\n",
    "        app.session.param()\n",
    "        .set(\"fitting\")\n",
    "        .set(\"dt\", exp[\"dt\"])\n",
    "        .set(\"frames\", 240)\n",
    "        .set(\"friction\", exp[\"friction\"])\n",
    "        .set(\"model-shell\", \"baraffwitkin\")\n",
    "        .set(\"contact-ghat\", exp[\"contact-ghat\"])\n",
    "        .set(\"strain-limit-eps\", exp[\"strain-limit-eps\"])\n",
    "        .set(\"cg-tol\", 1e-6)\n",
    "        .set(\"cg-max-iter\", 1000000)\n",
    "        .set(\"bend\", exp[\"bend\"])\n",
    "        .set(\"area-density\", 5000)\n",
    "        .set(\"stitch-stiffness\",1.0)\n",
    "        \n",
    "    )\n",
    "\n",
    "    param.dyn(\"fitting\").time(0.35).hold().change(False)\n",
    "    param.dyn(\"dt\").time(0.35).hold().change(exp[\"dyn_dt_change\"])\n",
    "    sess = run_experiment(idx, param, exp, exp_name=f\"{exp['name']}_baraffwitkin\")\n",
    "    print(sess)\n",
    "\n",
    "# this is for CI\n"
   ]
  },
  {
   "cell_type": "code",
   "execution_count": 7,
   "id": "e245d932-aa60-454b-ad9b-6fe3467a1c43",
   "metadata": {},
   "outputs": [
    {
     "name": "stdout",
     "output_type": "stream",
     "text": [
      "✅ Logs zipped successfully: experiment_logs.zip\n"
     ]
    }
   ],
   "source": [
    "\n",
    "# Path to your logs folder\n",
    "logs_dir = \"./logs\"  # or whatever path you're saving them in\n",
    "zip_name = \"experiment_logs.zip\"\n",
    "\n",
    "# Make a ZIP file\n",
    "shutil.make_archive(base_name=zip_name.replace(\".zip\", \"\"), format='zip', root_dir=logs_dir)\n",
    "\n",
    "print(f\"✅ Logs zipped successfully: {zip_name}\")"
   ]
  },
  {
   "cell_type": "code",
   "execution_count": 1,
   "id": "f26cbf99-7de6-4615-a069-c7d2f70e4b5c",
   "metadata": {},
   "outputs": [
    {
     "name": "stdout",
     "output_type": "stream",
     "text": [
      "Jupyter environment detected. Enabling Open3D WebVisualizer.\n",
      "[Open3D INFO] WebRTC GUI backend enabled.\n",
      "[Open3D INFO] WebRTCWindowSystem: HTTP handshake server disabled.\n"
     ]
    },
    {
     "name": "stderr",
     "output_type": "stream",
     "text": [
      "build: 100%|██████████████████████████| 10/10 [00:00<00:00, 13.73it/s]\n"
     ]
    },
    {
     "data": {
      "text/html": [
       "<table border=\"1\" class=\"dataframe table\">\n",
       "  <thead>\n",
       "    <tr style=\"text-align: right;\">\n",
       "      <th>#vert</th>\n",
       "      <th>#tri</th>\n",
       "      <th>#pin</th>\n",
       "      <th>#stitch_ind</th>\n",
       "    </tr>\n",
       "  </thead>\n",
       "  <tbody>\n",
       "    <tr>\n",
       "      <td>43,275</td>\n",
       "      <td>84,159</td>\n",
       "      <td>12,811</td>\n",
       "      <td>791</td>\n",
       "    </tr>\n",
       "  </tbody>\n",
       "</table>"
      ],
      "text/plain": [
       "<IPython.core.display.HTML object>"
      ]
     },
     "metadata": {},
     "output_type": "display_data"
    },
    {
     "data": {
      "application/vnd.jupyter.widget-view+json": {
       "model_id": "9f608f6a84074d6ab5073e8d93462f82",
       "version_major": 2,
       "version_minor": 0
      },
      "text/plain": [
       "Renderer(camera=PerspectiveCamera(children=(DirectionalLight(position=(0.0, 0.0, 1.888229250907898), quaternio…"
      ]
     },
     "metadata": {},
     "output_type": "display_data"
    },
    {
     "data": {
      "application/vnd.jupyter.widget-view+json": {
       "model_id": "99cd9012edb54ad5a7b0eeeba03486fd",
       "version_major": 2,
       "version_minor": 0
      },
      "text/plain": [
       "interactive(children=(FloatSlider(value=0.0, description='time', max=3.5, step=0.01), Output()), _dom_classes=…"
      ]
     },
     "metadata": {},
     "output_type": "display_data"
    },
    {
     "data": {
      "text/plain": [
       "<frontend._plot_.Plot at 0x7f73946738e0>"
      ]
     },
     "execution_count": 1,
     "metadata": {},
     "output_type": "execute_result"
    }
   ],
   "source": [
    "\n",
    "# One-time app and asset initialization\n",
    "import shutil\n",
    "import os\n",
    "import random\n",
    "\n",
    "\n",
    "from frontend import App\n",
    "from datetime import datetime\n",
    "\n",
    "app = App.create(\"fitting\")\n",
    "\n",
    "codim_ipc_root = \"/tmp/Codim-IPC\"\n",
    "checkout_list = [\n",
    "    \"Projects/FEMShell/input/multilayer\",\n",
    "    \"Projects/FEMShell/input/Rumba_Dancing\",\n",
    "]\n",
    "app.extra.sparse_clone(\n",
    "    \"https://github.com/ipc-sim/Codim-IPC\", codim_ipc_root, checkout_list\n",
    ")\n",
    "\n",
    "stage_path = os.path.join(codim_ipc_root, checkout_list[0], \"stage.obj\")\n",
    "body_path = os.path.join(codim_ipc_root, checkout_list[1], \"shell0.obj\")\n",
    "\n",
    "V, F, S = app.extra.load_CIPC_stitch_mesh(stage_path)\n",
    "app.asset.add.tri(\"dress\", V, F)\n",
    "app.asset.add.stitch(\"glue\", S)\n",
    "\n",
    "V, F = app.mesh.load_tri(body_path)\n",
    "app.asset.add.tri(\"body\", V, F)\n",
    "\n",
    "scene = app.scene.create()\n",
    "scene.add(\"dress\").stitch(\"glue\").rotate(-90, \"x\")\n",
    "\n",
    "jitter = 0.01 * random.random()\n",
    "body = scene.add(\"body\").at(0, -0.78 + jitter, 0).pin()\n",
    "body_dir = os.path.join(codim_ipc_root, checkout_list[1])\n",
    "frame = 1\n",
    "while True:\n",
    "    path = os.path.join(body_dir, f\"shell{frame}.obj\")\n",
    "    if os.path.exists(path):\n",
    "        V, _ = app.mesh.load_tri(path)\n",
    "        body.move_to(V, 0.5 + 0.025 * frame)\n",
    "        frame += 1\n",
    "    else:\n",
    "        break\n",
    "\n",
    "fixed = scene.build().report()\n",
    "fixed.preview(options={\"pin\": False})"
   ]
  },
  {
   "cell_type": "code",
   "execution_count": 15,
   "id": "220de44e-60d3-4958-939f-1b270fdaefdc",
   "metadata": {},
   "outputs": [
    {
     "data": {
      "application/vnd.jupyter.widget-view+json": {
       "model_id": "9983e8124ecc4f499ca4a310e611f36b",
       "version_major": 2,
       "version_minor": 0
      },
      "text/plain": [
       "Renderer(camera=PerspectiveCamera(children=(DirectionalLight(position=(0.0, 0.0, 1.888229250907898), quaternio…"
      ]
     },
     "metadata": {},
     "output_type": "display_data"
    },
    {
     "data": {
      "application/vnd.jupyter.widget-view+json": {
       "model_id": "b373b5babae84aa186b152cdf9e1a22a",
       "version_major": 2,
       "version_minor": 0
      },
      "text/plain": [
       "HBox(children=(Button(description='Terminate Solver', style=ButtonStyle()), Button(description='Save and Quit'…"
      ]
     },
     "metadata": {},
     "output_type": "display_data"
    },
    {
     "data": {
      "application/vnd.jupyter.widget-view+json": {
       "model_id": "1ba8a56baf8048e4abc63ce602d69cd3",
       "version_major": 2,
       "version_minor": 0
      },
      "text/plain": [
       "HTML(value='')"
      ]
     },
     "metadata": {},
     "output_type": "display_data"
    },
    {
     "data": {
      "application/vnd.jupyter.widget-view+json": {
       "model_id": "14b3eba6f0d64da0adb0101c23f4d3c4",
       "version_major": 2,
       "version_minor": 0
      },
      "text/plain": [
       "HTML(value='')"
      ]
     },
     "metadata": {},
     "output_type": "display_data"
    },
    {
     "data": {
      "application/vnd.jupyter.widget-view+json": {
       "model_id": "ca5c655545bb471cbb996a4bd119c55f",
       "version_major": 2,
       "version_minor": 0
      },
      "text/plain": [
       "HBox(children=(Button(description='Stop Live Stream', style=ButtonStyle()), Button(description='Terminate Solv…"
      ]
     },
     "metadata": {},
     "output_type": "display_data"
    },
    {
     "data": {
      "text/plain": [
       "<frontend._session_.Session at 0x7f7394523490>"
      ]
     },
     "execution_count": 15,
     "metadata": {},
     "output_type": "execute_result"
    }
   ],
   "source": [
    "# this is for multilayer dress\n",
    "param = (\n",
    "    app.session.param()\n",
    "    .set(\"fitting\")\n",
    "    .set(\"dt\", 0.003)\n",
    "    .set(\"frames\", 240)\n",
    "    .set(\"friction\", 0.02)\n",
    "    .set(\"model-shell\", \"baraffwitkin\")\n",
    "    .set(\"contact-ghat\", 0.8e-3) # 0.5e3  parameter controls the activation threshold of contact. Lower values increase contact density:\n",
    "    .set(\"strain-limit-eps\", 0.2) #0.1 Make it smaller to strongly limit how much the cloth can stretch\n",
    "    .set(\"cg-tol\", 0.1e-5)\n",
    "    .set(\"cg-max-iter\",500000)\n",
    "    .set(\"bend\",25)\n",
    "    .set(\"area-density\", 10000)\n",
    ")\n",
    "param.dyn(\"fitting\").time(0.35).hold().change(False)\n",
    "param.dyn(\"dt\").time(0.35).hold().change(0.04)   #since 0.032 always converges but 0.034 fails \n",
    "\n",
    "session = app.session.create(fixed)\n",
    "session.start(param).preview()\n",
    "session.stream()\n",
    "\n",
    "# param = (\n",
    "#     app.session.param()\n",
    "#     .set(\"fitting\")  # Enables automatic fitting of the simulation to the initial state.\n",
    "#     .set(\"dt\", 0.007)  # [Default: 0.01] Time step size. Smaller values increase accuracy but require more computation.\n",
    "#     .set(\"frames\", 240)  # [Default: 240] Number of frames to simulate. Determines the total simulation duration.\n",
    "#     .set(\"friction\", 0.0)  # [Default: 0.0] Coefficient of friction between contacting surfaces. Affects sliding behavior.\n",
    "#     .set(\"model-shell\", \"baraffwitkin\")  # [Default: \"arap\"] Shell model used. Options: \"arap\" (As-Rigid-As-Possible), \"baraffwitkin\". Influences deformation behavior.\n",
    "#     .set(\"contact-ghat\", 0.4e-3)  # [Default: 0.0004] Contact stiffness parameter. Higher values make contact constraints stiffer.\n",
    "#     .set(\"strain-limit-eps\", 0.09)  # [Default: 0.01] Strain limit for the material. Lower values make the material stiffer.\n",
    "#     .set(\"bend\", 3)  # [Default: 1] Bending stiffness multiplier. Higher values increase resistance to bending.\n",
    "#     #.set(\"area-density\", 1000)  # [Default: 1000] Mass per unit area of the shell. Affects inertia and dynamic response.\n",
    "#     .set(\"cg-max-iter\", 1000000)  # [Default: 1000] Maximum number of iterations for the Conjugate Gradient solver. Higher values allow for more precise solutions.\n",
    "#     .set(\"cg-tol\", 1e-5)  # [Default: 1e-5] Tolerance for the Conjugate Gradient solver. Lower values increase solution accuracy but may require more iterations.\n",
    "# )\n",
    "\n",
    "\n",
    "# param = (\n",
    "#     app.session.param()\n",
    "#     .set(\"fitting\")\n",
    "#     .set(\"dt\", 1e-3)\n",
    "#     .set(\"frames\", 240)\n",
    "#     .set(\"friction\", 0.0)\n",
    "#     .set(\"model-shell\", \"arap\")\n",
    "#     .set(\"contact-ghat\", 0.5e-3)\n",
    "#     .set(\"strain-limit-eps\", 0.1)\n",
    "# )\n",
    "# param.dyn(\"fitting\").time(0.15).hold().change(False)\n",
    "# param.dyn(\"dt\").time(0.15).hold().change(0.01)\n",
    "\n",
    "# session = app.session.create(fixed)"
   ]
  },
  {
   "cell_type": "code",
   "execution_count": null,
   "id": "0d75bab9-537f-4e4b-8463-e9b70fe59b8c",
   "metadata": {},
   "outputs": [],
   "source": [
    "session.start(param).preview()\n",
    "session.stream()"
   ]
  },
  {
   "cell_type": "code",
   "execution_count": null,
   "id": "9a004ff6-739f-480c-b082-08fe8f0643c0",
   "metadata": {},
   "outputs": [],
   "source": [
    "session.animate()"
   ]
  },
  {
   "cell_type": "code",
   "execution_count": null,
   "id": "11166aad-83b1-4bfd-8f1c-000aa745b7f7",
   "metadata": {},
   "outputs": [],
   "source": [
    "session.export.animation()"
   ]
  },
  {
   "cell_type": "code",
   "execution_count": null,
   "id": "8ded698a-c2fa-445b-8a0e-27dbc3e320ba",
   "metadata": {},
   "outputs": [],
   "source": [
    "# this is for CI\n",
    "assert session.finished()"
   ]
  },
  {
   "cell_type": "code",
   "execution_count": null,
   "id": "6b14b54e",
   "metadata": {},
   "outputs": [],
   "source": [
    "high_iter2 = [\n",
    "    # {\n",
    "    #     \"name\": \"high_iter8\", #fail\n",
    "    #     \"dt\": 0.004,\n",
    "    #     \"dyn_dt_change\": 0.042,\n",
    "    #     \"bend\": 35,\n",
    "    #     \"strain-limit-eps\": 0.1,\n",
    "    #     \"contact-ghat\": 0.13e-3,\n",
    "    #     \"friction\": 0.002,\n",
    "    # },\n",
    "    {\n",
    "        \"name\": \"high_iter8\", #fail\n",
    "        \"dt\": 0.004,\n",
    "        \"dyn_dt_change\": 0.036,\n",
    "        \"bend\": 25,\n",
    "        \"strain-limit-eps\": 0.1,\n",
    "        \"contact-ghat\": 0.27e-3,\n",
    "        \"friction\": 0.002,\n",
    "    },\n",
    "\n",
    "    {\n",
    "        \"name\": \"high_iter12\",   #fail\n",
    "        \"dt\": 0.004,\n",
    "        \"dyn_dt_change\": 0.04,\n",
    "        \"bend\": 25,\n",
    "        \"strain-limit-eps\": 0.15,\n",
    "        \"contact-ghat\": 0.25e-3,\n",
    "        \"friction\": 0.01,\n",
    "    },\n",
    "    # {\n",
    "    #     \"name\": \"high_iter11\", \n",
    "    #     \"dt\": 0.004,\n",
    "    #     \"dyn_dt_change\": 0.057,\n",
    "    #     \"bend\": 35,\n",
    "    #     \"strain-limit-eps\": 0.099,\n",
    "    #     \"contact-ghat\": 0.2e-3,\n",
    "    #     \"friction\": 0.02,\n",
    "    # },\n",
    "]\n",
    "\n",
    "fabric_experiments = [\n",
    "    # {\"name\": \"silk\",\"dt\": 0.003, \"dyn_dt_change\": 0.04, \"strain-limit-eps\": 0.1, \"bend\": 1, \"area-density\": 1000, \"contact-ghat\": 0.0004, \"friction\": 0.02},\n",
    "    # {\"name\": \"chiffon\",\"dt\": 0.003,  \"dyn_dt_change\": 0.04,\"strain-limit-eps\": 0.15, \"bend\": 0.5, \"area-density\": 500, \"contact-ghat\": 0.0003, \"friction\": 0.005},\n",
    "    {\"name\": \"silk_0.052\",\"dt\": 0.003, \"dyn_dt_change\": 0.052, \"strain-limit-eps\": 0.1, \"bend\": 1, \"area-density\": 1000, \"contact-ghat\": 0.0004, \"friction\": 0.02},\n",
    "    {\"name\": \"chiffon_0.052\",\"dt\": 0.003,  \"dyn_dt_change\": 0.052,\"strain-limit-eps\": 0.15, \"bend\": 0.5, \"area-density\": 500, \"contact-ghat\": 0.0003, \"friction\": 0.005},\n",
    "    {\"name\": \"silk_0.055\",\"dt\": 0.003, \"dyn_dt_change\": 0.055, \"strain-limit-eps\": 0.1, \"bend\": 1, \"area-density\": 1000, \"contact-ghat\": 0.0004, \"friction\": 0.02},\n",
    "    {\"name\": \"chiffon_0.055\",\"dt\": 0.003,  \"dyn_dt_change\": 0.055,\"strain-limit-eps\": 0.15, \"bend\": 0.5, \"area-density\": 500, \"contact-ghat\": 0.0003, \"friction\": 0.005},\n",
    "    {\"name\": \"silk_0.057\",\"dt\": 0.003, \"dyn_dt_change\": 0.057, \"strain-limit-eps\": 0.1, \"bend\": 1, \"area-density\": 1000, \"contact-ghat\": 0.0004, \"friction\": 0.02},\n",
    "    {\"name\": \"chiffon_0.057\",\"dt\": 0.003,  \"dyn_dt_change\": 0.057,\"strain-limit-eps\": 0.15, \"bend\": 0.5, \"area-density\": 500, \"contact-ghat\": 0.0003, \"friction\": 0.005},\n",
    "\n",
    "\n",
    "]\n",
    "#silk: ran pretty slow but no high convergence. did look like silk. \n",
    "\n",
    "\n",
    "# Run all experiments\n",
    "for idx, exp in enumerate(fabric_experiments):\n",
    "    try:\n",
    "        param = (\n",
    "            app.session.param()\n",
    "            .set(\"fitting\")\n",
    "            .set(\"dt\", exp[\"dt\"])\n",
    "            .set(\"frames\", 240)\n",
    "            .set(\"friction\", exp[\"friction\"])\n",
    "            .set(\"model-shell\", \"baraffwitkin\")\n",
    "            .set(\"contact-ghat\", exp[\"contact-ghat\"])\n",
    "            .set(\"strain-limit-eps\", exp[\"strain-limit-eps\"])\n",
    "            .set(\"cg-tol\", 1e-6)\n",
    "            .set(\"cg-max-iter\", 1000000)\n",
    "            .set(\"bend\", exp[\"bend\"])\n",
    "            .set(\"area-density\",exp[\"area-density\"])\n",
    "            .set(\"stitch-stiffness\", 1.0)\n",
    "            # .set(\"contact-offset\",1e-1)\n",
    "        )\n",
    "\n",
    "        param.dyn(\"fitting\").time(0.35).hold().change(False)\n",
    "        param.dyn(\"dt\").time(0.35).hold().change(exp[\"dyn_dt_change\"])\n",
    "        sess = run_experiment(idx, param, exp, exp_name=f\"fabric_{exp['name']}\")\n",
    "        print(sess)\n",
    "\n",
    "    except Exception as e:\n",
    "        print(f\"⚠️ Experiment {exp['name']} failed: {e}\")\n",
    "        continue"
   ]
  }
 ],
 "metadata": {
  "kernelspec": {
   "display_name": "Python 3 (ipykernel)",
   "language": "python",
   "name": "python3"
  },
  "language_info": {
   "codemirror_mode": {
    "name": "ipython",
    "version": 3
   },
   "file_extension": ".py",
   "mimetype": "text/x-python",
   "name": "python",
   "nbconvert_exporter": "python",
   "pygments_lexer": "ipython3",
   "version": "3.10.12"
  }
 },
 "nbformat": 4,
 "nbformat_minor": 5
}
