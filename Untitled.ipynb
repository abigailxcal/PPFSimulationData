{
 "cells": [
  {
   "cell_type": "code",
   "execution_count": null,
   "id": "e728eb63-16c0-44e3-8362-e8e08e85e691",
   "metadata": {},
   "outputs": [
    {
     "name": "stderr",
     "output_type": "stream",
     "text": [
      "build: 100%|██████████████████████████| 10/10 [00:00<00:00, 14.96it/s]\n"
     ]
    },
    {
     "data": {
      "text/html": [
       "<table border=\"1\" class=\"dataframe table\">\n",
       "  <thead>\n",
       "    <tr style=\"text-align: right;\">\n",
       "      <th>#vert</th>\n",
       "      <th>#tri</th>\n",
       "      <th>#pin</th>\n",
       "      <th>#stitch_ind</th>\n",
       "    </tr>\n",
       "  </thead>\n",
       "  <tbody>\n",
       "    <tr>\n",
       "      <td>28,467</td>\n",
       "      <td>54,928</td>\n",
       "      <td>12,811</td>\n",
       "      <td>851</td>\n",
       "    </tr>\n",
       "  </tbody>\n",
       "</table>"
      ],
      "text/plain": [
       "<IPython.core.display.HTML object>"
      ]
     },
     "metadata": {},
     "output_type": "display_data"
    },
    {
     "data": {
      "application/vnd.jupyter.widget-view+json": {
       "model_id": "ccd7fc2840fd446e9268df1fddd25402",
       "version_major": 2,
       "version_minor": 0
      },
      "text/plain": [
       "Renderer(camera=PerspectiveCamera(children=(DirectionalLight(position=(0.0, 0.0, 1.8741250038146973), quaterni…"
      ]
     },
     "metadata": {},
     "output_type": "display_data"
    },
    {
     "data": {
      "application/vnd.jupyter.widget-view+json": {
       "model_id": "a6309f85035149c58e4121aeedd619fb",
       "version_major": 2,
       "version_minor": 0
      },
      "text/plain": [
       "interactive(children=(FloatSlider(value=0.0, description='time', max=3.5, step=0.01), Output()), _dom_classes=…"
      ]
     },
     "metadata": {},
     "output_type": "display_data"
    },
    {
     "data": {
      "text/plain": [
       "<frontend._plot_.Plot at 0x73ce705e5a80>"
      ]
     },
     "execution_count": 5,
     "metadata": {},
     "output_type": "execute_result"
    }
   ],
   "source": [
    "import os\n",
    "import shutil\n",
    "import random\n",
    "from datetime import datetime\n",
    "\n",
    "from frontend import App\n",
    "\n",
    "app = App.create(\"fittingexp\")\n",
    "\n",
    "codim_ipc_root = \"/tmp/Codim-IPC\"\n",
    "checkout_list = [\n",
    "    \"Projects/FEMShell/input/multilayer\",\n",
    "    # \"Projects/FEMShell/input/dress_knife\",\n",
    "    \"Projects/FEMShell/input/Rumba_Dancing\",\n",
    "]\n",
    "app.extra.sparse_clone(\n",
    "    \"https://github.com/ipc-sim/Codim-IPC\", codim_ipc_root, checkout_list\n",
    ")\n",
    "\n",
    "stage_path = os.path.join(codim_ipc_root, checkout_list[0], \"stage.obj\")\n",
    "body_path = os.path.join(codim_ipc_root, checkout_list[1], \"shell0.obj\")\n",
    "\n",
    "V, F, S = app.extra.load_CIPC_stitch_mesh(stage_path)\n",
    "app.asset.add.tri(\"dress\", V, F)\n",
    "app.asset.add.stitch(\"glue\", S)\n",
    "\n",
    "V, F = app.mesh.load_tri(body_path)\n",
    "app.asset.add.tri(\"body\", V, F)\n",
    "\n",
    "scene = app.scene.create(\"fit-and-dance\")\n",
    "scene.add(\"dress\").stitch(\"glue\").rotate(-90, \"x\")\n",
    "\n",
    "jitter = 0.01 * random.random()\n",
    "body = scene.add(\"body\").at(0, -0.78 + jitter, 0).pin()\n",
    "body_dir = os.path.join(codim_ipc_root, checkout_list[1])\n",
    "frame = 1\n",
    "while True:\n",
    "    path = os.path.join(body_dir, f\"shell{frame}.obj\")\n",
    "    if os.path.exists(path):\n",
    "        V, _ = app.mesh.load_tri(path)\n",
    "        body.move_to(V, 0.5 + 0.025 * frame)\n",
    "        frame += 1\n",
    "    else:\n",
    "        break\n",
    "\n",
    "fixed = scene.build().report()\n",
    "fixed.preview(options={\"pin\": False})"
   ]
  },
  {
   "cell_type": "code",
   "execution_count": null,
   "id": "f6ee3e1a-611c-4ffb-a153-58604b8fc9f2",
   "metadata": {
    "scrolled": true
   },
   "outputs": [
    {
     "data": {
      "application/vnd.jupyter.widget-view+json": {
       "model_id": "1894109c2e3740a58dde46d9d28503d6",
       "version_major": 2,
       "version_minor": 0
      },
      "text/plain": [
       "Renderer(camera=PerspectiveCamera(children=(DirectionalLight(position=(0.0, 0.0, 1.8741250038146973), quaterni…"
      ]
     },
     "metadata": {},
     "output_type": "display_data"
    },
    {
     "data": {
      "application/vnd.jupyter.widget-view+json": {
       "model_id": "1a16d749ac3d446d80256cacb96fe371",
       "version_major": 2,
       "version_minor": 0
      },
      "text/plain": [
       "HBox(children=(Button(description='Terminate Solver', style=ButtonStyle()), Button(description='Save and Quit'…"
      ]
     },
     "metadata": {},
     "output_type": "display_data"
    },
    {
     "data": {
      "application/vnd.jupyter.widget-view+json": {
       "model_id": "5c4ed20586cd42ebb15173473f99e939",
       "version_major": 2,
       "version_minor": 0
      },
      "text/plain": [
       "HTML(value='')"
      ]
     },
     "metadata": {},
     "output_type": "display_data"
    },
    {
     "data": {
      "application/vnd.jupyter.widget-view+json": {
       "model_id": "603669f181ad4394b8028359e3d22846",
       "version_major": 2,
       "version_minor": 0
      },
      "text/plain": [
       "HTML(value='')"
      ]
     },
     "metadata": {},
     "output_type": "display_data"
    },
    {
     "data": {
      "application/vnd.jupyter.widget-view+json": {
       "model_id": "fdd2419f141e4c4aa3acaa59c0db6a0e",
       "version_major": 2,
       "version_minor": 0
      },
      "text/plain": [
       "HBox(children=(Button(description='Stop Live Stream', style=ButtonStyle()), Button(description='Terminate Solv…"
      ]
     },
     "metadata": {},
     "output_type": "display_data"
    },
    {
     "data": {
      "text/plain": [
       "<frontend._session_.Session at 0x73ce705e6590>"
      ]
     },
     "execution_count": 6,
     "metadata": {},
     "output_type": "execute_result"
    }
   ],
   "source": [
    "param = (\n",
    "    app.session.param()\n",
    "    .set(\"fitting\")\n",
    "    .set(\"dt\", 0.02)\n",
    "    .set(\"frames\", 240)\n",
    "    .set(\"friction\", 0.005)\n",
    "    .set(\"model-shell\", \"baraffwitkin\")\n",
    "    .set(\"contact-ghat\", 0.6e-3)  # 0.5e3  parameter controls the activation threshold of contact. Lower values increase contact density:\n",
    "    .set(\"strain-limit-eps\", 0.06)   #0.1 Make it smaller to strongly limit how much the cloth can stretch\n",
    "    .set(\"cg-tol\", 1e-4)\n",
    "    .set(\"cg-max-iter\",500000)\n",
    "   .set(\"bend\",20)\n",
    "    .set(\"area-density\", 8000)\n",
    "    .set(\"stitch-stiffness\",2.0)\n",
    "    # .set(\"target-toi\",0.35)  #0.25 is default\n",
    "    # .set(\"area-young-mod\", 500.0)\n",
    "    # .set(\"area-poiss-rat\", 0.3)\n",
    "     # .set(\"gravity\", -11.98)\n",
    ")\n",
    "param.dyn(\"fitting\").time(0.25).hold().change(False)\n",
    "param.dyn(\"dt\").time(0.25).hold().change(0.04) \n",
    "\n",
    "\n",
    "\n",
    "# param = (\n",
    "#     app.session.param()\n",
    "#     .set(\"fitting\")\n",
    "#     .set(\"dt\", 0.02)\n",
    "#     .set(\"frames\", 240)\n",
    "#     .set(\"friction\", 0.0)\n",
    "#     .set(\"model-shell\", \"arap\")\n",
    "#     .set(\"contact-ghat\", 0.5e-3)\n",
    "#     .set(\"strain-limit-eps\", 0.1)\n",
    "# )\n",
    "\n",
    "session = app.session.create(fixed)\n",
    "session.start(param).preview()\n",
    "session.stream()\n",
    "\n",
    "# this is for multilayer dress\n",
    "param = (\n",
    "    app.session.param()\n",
    "    .set(\"fitting\")\n",
    "    .set(\"dt\", 0.0004)\n",
    "    .set(\"frames\", 240)\n",
    "    .set(\"friction\", 0.0)\n",
    "    .set(\"model-shell\", \"arap\")\n",
    "    .set(\"contact-ghat\", 0.4e-3) # 0.5e3  parameter controls the activation threshold of contact. Lower values increase contact density:\n",
    "    .set(\"strain-limit-eps\", 0.06) #0.1 Make it smaller to strongly limit how much the cloth can stretch\n",
    "    .set(\"cg-tol\", 1e-6)\n",
    "    .set(\"cg-max-iter\",1000000)\n",
    "    .set(\"bend\",17)\n",
    ")\n",
    "param.dyn(\"fitting\").time(0.15).hold().change(False)\n",
    "param.dyn(\"dt\").time(0.15).hold().change(0.0338)   #since 0.032 always converges but 0.034 fails \n",
    "\n",
    "session = app.session.create(fixed)\n",
    "session.start(param).preview()\n",
    "session.stream()"
   ]
  },
  {
   "cell_type": "code",
   "execution_count": 16,
   "id": "f9fc8a0d-739a-45a8-9f08-53b87ffa3041",
   "metadata": {},
   "outputs": [],
   "source": [
    "def build_scene():\n",
    "    app = App.create(\"name\")\n",
    "\n",
    "    codim_ipc_root = \"/tmp/Codim-IPC\"\n",
    "    checkout_list = [\n",
    "        \"Projects/FEMShell/input/dress_knife\",\n",
    "        \"Projects/FEMShell/input/Rumba_Dancing\",\n",
    "    ]\n",
    "    app.extra.sparse_clone(\n",
    "        \"https://github.com/ipc-sim/Codim-IPC\", codim_ipc_root, checkout_list\n",
    "    )\n",
    "\n",
    "    stage_path = os.path.join(codim_ipc_root, checkout_list[0], \"stage.obj\")\n",
    "    body_path = os.path.join(codim_ipc_root, checkout_list[1], \"shell0.obj\")\n",
    "\n",
    "    V, F, S = app.extra.load_CIPC_stitch_mesh(stage_path)\n",
    "    app.asset.add.tri(\"dress\", V, F)\n",
    "    app.asset.add.stitch(\"glue\", S)\n",
    "\n",
    "    V, F = app.mesh.load_tri(body_path)\n",
    "    app.asset.add.tri(\"body\", V, F)\n",
    "\n",
    "    scene = app.scene.create(\"fit-and-dance\")\n",
    "    scene.add(\"dress\").stitch(\"glue\").rotate(-90, \"x\")\n",
    "\n",
    "    jitter = 0.01 * random.random()\n",
    "    body = scene.add(\"body\").at(0, -0.78 + jitter, 0).pin()\n",
    "    body_dir = os.path.join(codim_ipc_root, checkout_list[1])\n",
    "    frame = 1\n",
    "    while True:\n",
    "        path = os.path.join(body_dir, f\"shell{frame}.obj\")\n",
    "        if os.path.exists(path):\n",
    "            V, _ = app.mesh.load_tri(path)\n",
    "            body.move_to(V, 0.5 + 0.025 * frame)\n",
    "            frame += 1\n",
    "        else:\n",
    "            break\n",
    "\n",
    "    fixed = scene.build().report()\n",
    "    fixed.preview(options={\"pin\": False})"
   ]
  },
  {
   "cell_type": "code",
   "execution_count": 29,
   "id": "c5d1ad70-fdb9-4883-adb7-d27090ec6c80",
   "metadata": {},
   "outputs": [],
   "source": [
    "\n",
    "def run_experiment(idx,params, param_dict, exp_name=None):\n",
    "    name = \"name\"+str(idx)\n",
    "    app = App.create(name)\n",
    "\n",
    "    codim_ipc_root = \"/tmp/Codim-IPC\"\n",
    "    checkout_list = [\n",
    "        \"Projects/FEMShell/input/dress_knife\",\n",
    "        \"Projects/FEMShell/input/Rumba_Dancing\",\n",
    "    ]\n",
    "    app.extra.sparse_clone(\n",
    "        \"https://github.com/ipc-sim/Codim-IPC\", codim_ipc_root, checkout_list\n",
    "    )\n",
    "\n",
    "    stage_path = os.path.join(codim_ipc_root, checkout_list[0], \"stage.obj\")\n",
    "    body_path = os.path.join(codim_ipc_root, checkout_list[1], \"shell0.obj\")\n",
    "\n",
    "    V, F, S = app.extra.load_CIPC_stitch_mesh(stage_path)\n",
    "    app.asset.add.tri(\"dress\", V, F)\n",
    "    app.asset.add.stitch(\"glue\", S)\n",
    "\n",
    "    V, F = app.mesh.load_tri(body_path)\n",
    "    app.asset.add.tri(\"body\", V, F)\n",
    "\n",
    "    scene = app.scene.create(\"fit-and-dance\")\n",
    "    scene.add(\"dress\").stitch(\"glue\").rotate(-90, \"x\")\n",
    "\n",
    "    jitter = 0.01 * random.random()\n",
    "    body = scene.add(\"body\").at(0, -0.78 + jitter, 0).pin()\n",
    "    body_dir = os.path.join(codim_ipc_root, checkout_list[1])\n",
    "    frame = 1\n",
    "    while True:\n",
    "        path = os.path.join(body_dir, f\"shell{frame}.obj\")\n",
    "        if os.path.exists(path):\n",
    "            V, _ = app.mesh.load_tri(path)\n",
    "            body.move_to(V, 0.5 + 0.025 * frame)\n",
    "            frame += 1\n",
    "        else:\n",
    "            break\n",
    "\n",
    "    fixed = scene.build().report()\n",
    "    fixed.preview(options={\"pin\": False})\n",
    "    print(params)\n",
    "    print(param_dict)\n",
    "    \n",
    "    session = app.session.create(fixed)\n",
    "    session.start(params).preview()\n",
    "    session.stream()\n",
    "\n",
    "    while not session.finished():\n",
    "        pass\n",
    "        if session.finished():\n",
    "             print(\"session finished\")\n",
    "\n",
    "    \n",
    "    # Auto-name everything\n",
    "    timestamp = datetime.now().strftime(\"%Y%m%d-%H%M%S\")\n",
    "    exp_name = exp_name or f\"exp_{timestamp}\"\n",
    "    exp_dir = f\"./logs/{exp_name}\"\n",
    "    os.makedirs(exp_dir, exist_ok=True)\n",
    "\n",
    "    # Save structured logs\n",
    "    logs = session.get.log.names()\n",
    "\n",
    "    for logname in logs:\n",
    "        numbers = session.get.log.numbers(logname)\n",
    "        with open(f\"{exp_dir}/{logname}.csv\", \"w\") as f:\n",
    "            f.write(\"frame,value\\n\")\n",
    "            for frame, value in numbers:\n",
    "                f.write(f\"{frame},{value}\\n\")\n",
    "\n",
    "    # Save stdout separately\n",
    "    lines_to_write = session.get.log.stdout()\n",
    "    with open(f\"{exp_dir}/stdout.txt\", \"w\") as f:\n",
    "        f.writelines(line + '\\n' for line in lines_to_write)\n",
    "\n",
    "    # Save parameters used for this experiment\n",
    "    with open(f\"{exp_dir}/params.txt\", \"w\") as f:\n",
    "        for key, value in param_dict.items():\n",
    "            f.write(f\"{key}: {value}\\n\")\n",
    "    print(f\"Experiment {exp_name} saved to {exp_dir}\")\n",
    "    \n",
    "    return session.finished()\n",
    "\n",
    "    \n",
    "\n",
    "\n",
    "    \n"
   ]
  },
  {
   "cell_type": "code",
   "execution_count": null,
   "id": "1dcee5c2-6a10-4d4d-9305-0b3b88fd6d80",
   "metadata": {},
   "outputs": [
    {
     "name": "stderr",
     "output_type": "stream",
     "text": [
      "build: 100%|██████████████████████████| 10/10 [00:00<00:00, 15.09it/s]\n"
     ]
    },
    {
     "data": {
      "text/html": [
       "<table border=\"1\" class=\"dataframe table\">\n",
       "  <thead>\n",
       "    <tr style=\"text-align: right;\">\n",
       "      <th>#vert</th>\n",
       "      <th>#tri</th>\n",
       "      <th>#pin</th>\n",
       "      <th>#stitch_ind</th>\n",
       "    </tr>\n",
       "  </thead>\n",
       "  <tbody>\n",
       "    <tr>\n",
       "      <td>28,467</td>\n",
       "      <td>54,928</td>\n",
       "      <td>12,811</td>\n",
       "      <td>851</td>\n",
       "    </tr>\n",
       "  </tbody>\n",
       "</table>"
      ],
      "text/plain": [
       "<IPython.core.display.HTML object>"
      ]
     },
     "metadata": {},
     "output_type": "display_data"
    },
    {
     "data": {
      "application/vnd.jupyter.widget-view+json": {
       "model_id": "59009e0f22414ac6acb2c514e81ad89f",
       "version_major": 2,
       "version_minor": 0
      },
      "text/plain": [
       "Renderer(camera=PerspectiveCamera(children=(DirectionalLight(position=(0.0, 0.0, 1.8741250038146973), quaterni…"
      ]
     },
     "metadata": {},
     "output_type": "display_data"
    },
    {
     "data": {
      "application/vnd.jupyter.widget-view+json": {
       "model_id": "f59346adf92a4aff923c327e8dbc2ae2",
       "version_major": 2,
       "version_minor": 0
      },
      "text/plain": [
       "interactive(children=(FloatSlider(value=0.0, description='time', max=3.5, step=0.01), Output()), _dom_classes=…"
      ]
     },
     "metadata": {},
     "output_type": "display_data"
    },
    {
     "name": "stdout",
     "output_type": "stream",
     "text": [
      "<frontend._session_.Param object at 0x73ce68adeb60>\n",
      "{'name': 'strain_sweep_0.01', 'dt': 0.001, 'dyn_dt_change': 0.01, 'bend': 5, 'strain-limit-eps': 0.1, 'contact-ghat': 0.001}\n"
     ]
    },
    {
     "data": {
      "application/vnd.jupyter.widget-view+json": {
       "model_id": "f05f3b33dc8e40bbbbb57e6e35dbdefa",
       "version_major": 2,
       "version_minor": 0
      },
      "text/plain": [
       "Renderer(camera=PerspectiveCamera(children=(DirectionalLight(position=(0.0, 0.0, 1.8741250038146973), quaterni…"
      ]
     },
     "metadata": {},
     "output_type": "display_data"
    },
    {
     "data": {
      "application/vnd.jupyter.widget-view+json": {
       "model_id": "82eda6c82e1a49b7883f5e78960860bb",
       "version_major": 2,
       "version_minor": 0
      },
      "text/plain": [
       "HBox(children=(Button(description='Terminate Solver', style=ButtonStyle()), Button(description='Save and Quit'…"
      ]
     },
     "metadata": {},
     "output_type": "display_data"
    },
    {
     "data": {
      "application/vnd.jupyter.widget-view+json": {
       "model_id": "9a2a2711de3a49678121c7ae92055d56",
       "version_major": 2,
       "version_minor": 0
      },
      "text/plain": [
       "HTML(value='')"
      ]
     },
     "metadata": {},
     "output_type": "display_data"
    },
    {
     "data": {
      "application/vnd.jupyter.widget-view+json": {
       "model_id": "c5b1f8e67adb4eef9f62f602ac3af362",
       "version_major": 2,
       "version_minor": 0
      },
      "text/plain": [
       "HTML(value='')"
      ]
     },
     "metadata": {},
     "output_type": "display_data"
    },
    {
     "data": {
      "application/vnd.jupyter.widget-view+json": {
       "model_id": "b6f526009748449ba3b1100c6d4ed713",
       "version_major": 2,
       "version_minor": 0
      },
      "text/plain": [
       "HBox(children=(Button(description='Stop Live Stream', style=ButtonStyle()), Button(description='Terminate Solv…"
      ]
     },
     "metadata": {},
     "output_type": "display_data"
    },
    {
     "name": "stdout",
     "output_type": "stream",
     "text": [
      "session finished\n",
      "Experiment strain_sweep_0.01_arap saved to ./logs/strain_sweep_0.01_arap\n",
      "True\n"
     ]
    },
    {
     "name": "stderr",
     "output_type": "stream",
     "text": [
      "build: 100%|██████████████████████████| 10/10 [00:00<00:00, 14.50it/s]\n"
     ]
    },
    {
     "data": {
      "text/html": [
       "<table border=\"1\" class=\"dataframe table\">\n",
       "  <thead>\n",
       "    <tr style=\"text-align: right;\">\n",
       "      <th>#vert</th>\n",
       "      <th>#tri</th>\n",
       "      <th>#pin</th>\n",
       "      <th>#stitch_ind</th>\n",
       "    </tr>\n",
       "  </thead>\n",
       "  <tbody>\n",
       "    <tr>\n",
       "      <td>28,467</td>\n",
       "      <td>54,928</td>\n",
       "      <td>12,811</td>\n",
       "      <td>851</td>\n",
       "    </tr>\n",
       "  </tbody>\n",
       "</table>"
      ],
      "text/plain": [
       "<IPython.core.display.HTML object>"
      ]
     },
     "metadata": {},
     "output_type": "display_data"
    },
    {
     "data": {
      "application/vnd.jupyter.widget-view+json": {
       "model_id": "ed9d7fa12976420c81d2ffff00d63322",
       "version_major": 2,
       "version_minor": 0
      },
      "text/plain": [
       "Renderer(camera=PerspectiveCamera(children=(DirectionalLight(position=(0.0, 0.0, 1.8741250038146973), quaterni…"
      ]
     },
     "metadata": {},
     "output_type": "display_data"
    },
    {
     "data": {
      "application/vnd.jupyter.widget-view+json": {
       "model_id": "a1b506e096fa44dcad6af6b4a0978d3d",
       "version_major": 2,
       "version_minor": 0
      },
      "text/plain": [
       "interactive(children=(FloatSlider(value=0.0, description='time', max=3.5, step=0.01), Output()), _dom_classes=…"
      ]
     },
     "metadata": {},
     "output_type": "display_data"
    },
    {
     "name": "stdout",
     "output_type": "stream",
     "text": [
      "<frontend._session_.Param object at 0x73ce71326e00>\n",
      "{'name': 'strain_sweep_0.05', 'dt': 0.002, 'dyn_dt_change': 0.02, 'bend': 5, 'strain-limit-eps': 0.05, 'contact-ghat': 0.0004}\n"
     ]
    },
    {
     "data": {
      "application/vnd.jupyter.widget-view+json": {
       "model_id": "f9c20bb0d6a440f2ba222f5895a9463c",
       "version_major": 2,
       "version_minor": 0
      },
      "text/plain": [
       "Renderer(camera=PerspectiveCamera(children=(DirectionalLight(position=(0.0, 0.0, 1.8741250038146973), quaterni…"
      ]
     },
     "metadata": {},
     "output_type": "display_data"
    },
    {
     "data": {
      "application/vnd.jupyter.widget-view+json": {
       "model_id": "00644a10100546949701e2dbb9b2fc65",
       "version_major": 2,
       "version_minor": 0
      },
      "text/plain": [
       "HBox(children=(Button(description='Terminate Solver', style=ButtonStyle()), Button(description='Save and Quit'…"
      ]
     },
     "metadata": {},
     "output_type": "display_data"
    },
    {
     "data": {
      "application/vnd.jupyter.widget-view+json": {
       "model_id": "eba1e44f4c134d9f8685bb0bdc2c12c8",
       "version_major": 2,
       "version_minor": 0
      },
      "text/plain": [
       "HTML(value='')"
      ]
     },
     "metadata": {},
     "output_type": "display_data"
    },
    {
     "data": {
      "application/vnd.jupyter.widget-view+json": {
       "model_id": "1b86c00a2264441fbb1f042c9680e64e",
       "version_major": 2,
       "version_minor": 0
      },
      "text/plain": [
       "HTML(value='')"
      ]
     },
     "metadata": {},
     "output_type": "display_data"
    },
    {
     "data": {
      "application/vnd.jupyter.widget-view+json": {
       "model_id": "0c713e06b63c41daa90691d8be5b9674",
       "version_major": 2,
       "version_minor": 0
      },
      "text/plain": [
       "HBox(children=(Button(description='Stop Live Stream', style=ButtonStyle()), Button(description='Terminate Solv…"
      ]
     },
     "metadata": {},
     "output_type": "display_data"
    }
   ],
   "source": [
    "# Define experiment configurations\n",
    "base_experiments = [\n",
    "    {\n",
    "        \"name\": \"strain_sweep_0.01\",\n",
    "        \"dt\": 0.001,\n",
    "        \"dyn_dt_change\": 0.01,\n",
    "        \"bend\": 5,\n",
    "        \"strain-limit-eps\": 0.1,\n",
    "        \"contact-ghat\": 1e-3,\n",
    "    },\n",
    "    {\n",
    "        \"name\": \"strain_sweep_0.05\",\n",
    "        \"dt\": 0.002,\n",
    "        \"dyn_dt_change\": 0.02,\n",
    "        \"bend\": 5,\n",
    "        \"strain-limit-eps\": 0.05,\n",
    "        \"contact-ghat\": 0.4e-3,\n",
    "    },\n",
    "    {\n",
    "        \"name\": \"strain_sweep_0.10\",\n",
    "        \"dt\": 0.002,\n",
    "        \"dyn_dt_change\": 0.02,\n",
    "        \"bend\": 2,\n",
    "        \"strain-limit-eps\": 0.1,\n",
    "        \"contact-ghat\": 0.4e-3,\n",
    "    },\n",
    "    {\n",
    "        \"name\": \"friction_high\",\n",
    "        \"dt\": 0.005,\n",
    "        \"dyn_dt_change\": 0.02,\n",
    "        \"bend\": 5,\n",
    "        \"strain-limit-eps\": 0.02,\n",
    "        \"contact-ghat\": 0.8e-3,\n",
    "        \"friction\": 0.01,\n",
    "    },\n",
    "    {\n",
    "        \"name\": \"dt_large\",\n",
    "        \"dt\": 0.05,\n",
    "        \"dyn_dt_change\": 0.05,\n",
    "        \"bend\": 2,\n",
    "        \"strain-limit-eps\": 0.01,\n",
    "        \"contact-ghat\": 1e-4,\n",
    "    },\n",
    "    {\n",
    "        \"name\": \"contact_sweep\",\n",
    "        \"dt\": 0.002,\n",
    "        \"dyn_dt_change\": 0.02,\n",
    "        \"bend\": 2,\n",
    "        \"strain-limit-eps\": 0.02,\n",
    "        \"contact-ghat\": 1e-4,\n",
    "    },\n",
    "]\n",
    "\n",
    "# baraffwitkin\n",
    "layered_dress_experiments = [\n",
    "    {\n",
    "        \"name\": \"strain_sweep_0.01\",\n",
    "        \"dt\": 0.01,\n",
    "        \"dyn_dt_change\": 0.01,\n",
    "        \"bend\": 5,\n",
    "        \"strain-limit-eps\": 0.1,\n",
    "        \"contact-ghat\": 1e-3,\n",
    "    },\n",
    "    {\n",
    "        \"name\": \"strain_sweep_0.05\",\n",
    "        \"dt\": 0.02,\n",
    "        \"dyn_dt_change\": 0.02,\n",
    "        \"bend\": 5,\n",
    "        \"strain-limit-eps\": 0.05,\n",
    "        \"contact-ghat\": 0.4e-3,\n",
    "    },\n",
    "    {\n",
    "        \"name\": \"strain_sweep_0.10\",\n",
    "        \"dt\": 0.02,\n",
    "        \"dyn_dt_change\": 0.02,\n",
    "        \"bend\": 2,\n",
    "        \"strain-limit-eps\": 0.1,\n",
    "        \"contact-ghat\": 0.4e-3,\n",
    "    },\n",
    "    {\n",
    "        \"name\": \"friction_high\",\n",
    "        \"dt\": 0.05,\n",
    "        \"dyn_dt_change\": 0.02,\n",
    "        \"bend\": 5,\n",
    "        \"strain-limit-eps\": 0.02,\n",
    "        \"contact-ghat\": 0.8e-3,\n",
    "        \"friction\": 0.01,\n",
    "    },\n",
    "    {\n",
    "        \"name\": \"dt_large\",\n",
    "        \"dt\": 0.05,\n",
    "        \"dyn_dt_change\": 0.05,\n",
    "        \"bend\": 2,\n",
    "        \"strain-limit-eps\": 0.01,\n",
    "        \"contact-ghat\": 1e-4,\n",
    "    },\n",
    "    {\n",
    "        \"name\": \"contact_sweep\",\n",
    "        \"dt\": 0.02,\n",
    "        \"dyn_dt_change\": 0.02,\n",
    "        \"bend\": 2,\n",
    "        \"strain-limit-eps\": 0.02,\n",
    "        \"contact-ghat\": 1e-4,\n",
    "    },\n",
    "]\n",
    "\n",
    "shell_models = [\"arap\", \"baraffwitkin\"]\n",
    "\n",
    "# Run all experiments\n",
    "for idx, exp in enumerate(base_experiments):\n",
    "    param = (\n",
    "        app.session.param()\n",
    "        .set(\"fitting\")\n",
    "        .set(\"dt\", exp[\"dt\"])\n",
    "        .set(\"frames\", 240)\n",
    "        .set(\"friction\", 0.0)\n",
    "        .set(\"model-shell\", \"arap\")\n",
    "        .set(\"contact-ghat\", exp[\"contact-ghat\"])\n",
    "        .set(\"strain-limit-eps\", exp[\"strain-limit-eps\"])\n",
    "        .set(\"cg-tol\", 0.0001)\n",
    "        .set(\"cg-max-iter\", 100000)\n",
    "        .set(\"bend\", exp[\"bend\"])\n",
    "    )\n",
    "\n",
    "    param.dyn(\"fitting\").time(0.15).hold().change(False)\n",
    "    param.dyn(\"dt\").time(0.15).hold().change(exp[\"dyn_dt_change\"])\n",
    "    sess = run_experiment(idx, param, exp, exp_name=f\"{exp['name']}_arap\")\n",
    "    print(sess)"
   ]
  },
  {
   "cell_type": "code",
   "execution_count": null,
   "id": "11ee25e2-6d86-4f6d-bd66-22f7d8114ede",
   "metadata": {},
   "outputs": [],
   "source": [
    "\n",
    "# Path to your logs folder\n",
    "logs_dir = \"./logs\"  # or whatever path you're saving them in\n",
    "zip_name = \"experiment_logs.zip\"\n",
    "\n",
    "# Make a ZIP file\n",
    "shutil.make_archive(base_name=zip_name.replace(\".zip\", \"\"), format='zip', root_dir=logs_dir)\n",
    "\n",
    "print(f\"✅ Logs zipped successfully: {zip_name}\")\n",
    "\n",
    "\n",
    "param = (\n",
    "    app.session.param()\n",
    "    .set(\"fitting\")  # Enables automatic fitting of the simulation to the initial state.\n",
    "    .set(\"dt\", 0.007)  # [Default: 0.01] Time step size. Smaller values increase accuracy but require more computation.\n",
    "    .set(\"frames\", 240)  # [Default: 240] Number of frames to simulate. Determines the total simulation duration.\n",
    "    .set(\"friction\", 0.0)  # [Default: 0.0] Coefficient of friction between contacting surfaces. Affects sliding behavior.\n",
    "    .set(\"model-shell\", \"baraffwitkin\")  # [Default: \"arap\"] Shell model used. Options: \"arap\" (As-Rigid-As-Possible), \"baraffwitkin\". Influences deformation behavior.\n",
    "    .set(\"contact-ghat\", 0.4e-3)  # [Default: 0.0004] Contact stiffness parameter. Higher values make contact constraints stiffer.Lower values increase contact density:\n",
    "    .set(\"strain-limit-eps\", 0.09)  # [Default: 0.01] Strain limit for the material. Lower values make the material stiffer.\n",
    "    .set(\"bend\", 3)  # [Default: 1] Bending stiffness multiplier. Higher values increase resistance to bending.\n",
    "    #.set(\"area-density\", 1000)  # [Default: 1000] Mass per unit area of the shell. Affects inertia and dynamic response.\n",
    "    .set(\"cg-max-iter\", 1000000)  # [Default: 1000] Maximum number of iterations for the Conjugate Gradient solver. Higher values allow for more precise solutions.\n",
    "    .set(\"cg-tol\", 1e-5)  # [Default: 1e-5] Tolerance for the Conjugate Gradient solver. Lower values increase solution accuracy but may require more iterations.\n",
    ")\n",
    "param.dyn(\"fitting\").time(0.15).hold().change(False)\n",
    "param.dyn(\"dt\").time(0.15).hold().change(0.0438)   #since 0.032 always converges but 0.034 fails \n"
   ]
  }
 ],
 "metadata": {
  "kernelspec": {
   "display_name": "Python 3 (ipykernel)",
   "language": "python",
   "name": "python3"
  },
  "language_info": {
   "codemirror_mode": {
    "name": "ipython",
    "version": 3
   },
   "file_extension": ".py",
   "mimetype": "text/x-python",
   "name": "python",
   "nbconvert_exporter": "python",
   "pygments_lexer": "ipython3",
   "version": "3.10.12"
  }
 },
 "nbformat": 4,
 "nbformat_minor": 5
}
