{
 "cells": [
  {
   "cell_type": "code",
   "execution_count": null,
   "id": "cafe1926",
   "metadata": {},
   "outputs": [
    {
     "data": {
      "application/vnd.microsoft.datawrangler.viewer.v0+json": {
       "columns": [
        {
         "name": "index",
         "rawType": "int64",
         "type": "integer"
        },
        {
         "name": "filename",
         "rawType": "object",
         "type": "string"
        },
        {
         "name": "row_count",
         "rawType": "int64",
         "type": "integer"
        }
       ],
       "conversionMethod": "pd.DataFrame",
       "ref": "6f9c5396-7beb-4e1b-afcf-e3aa935214b0",
       "rows": [
        [
         "0",
         "avg-sigma.csv",
         "1107"
        ],
        [
         "1",
         "fillin-pass.csv",
         "4835"
        ],
        [
         "2",
         "pcg-resid.csv",
         "4835"
        ],
        [
         "3",
         "line-search.csv",
         "4835"
        ],
        [
         "4",
         "max-search-dir.csv",
         "4835"
        ],
        [
         "5",
         "dyn-consumed.csv",
         "4835"
        ],
        [
         "6",
         "toi-recale.csv",
         "4835"
        ],
        [
         "7",
         "initialize.csv",
         "1"
        ],
        [
         "8",
         "dt.csv",
         "1107"
        ],
        [
         "9",
         "num-contact.csv",
         "4835"
        ],
        [
         "10",
         "toi-advanced.csv",
         "1107"
        ],
        [
         "11",
         "playback.csv",
         "1107"
        ],
        [
         "12",
         "max-nnz-row.csv",
         "4835"
        ],
        [
         "13",
         "dry-pass.csv",
         "4835"
        ],
        [
         "14",
         "time-per-frame.csv",
         "237"
        ],
        [
         "15",
         "contact-mat-finalize.csv",
         "4835"
        ],
        [
         "16",
         "runtime-intersection-check.csv",
         "4835"
        ],
        [
         "17",
         "pcg-linsolve.csv",
         "4835"
        ],
        [
         "18",
         "matrix-assembly.csv",
         "4835"
        ],
        [
         "19",
         "max-velocity.csv",
         "1107"
        ],
        [
         "20",
         "newton-steps.csv",
         "1107"
        ],
        [
         "21",
         "toi.csv",
         "4835"
        ],
        [
         "22",
         "initial-check-intersection.csv",
         "1"
        ],
        [
         "23",
         "contact-matrix-assembly.csv",
         "4835"
        ],
        [
         "24",
         "SL-toi.csv",
         "4835"
        ],
        [
         "25",
         "max-sigma.csv",
         "1107"
        ],
        [
         "26",
         "final-dt.csv",
         "1107"
        ],
        [
         "27",
         "frame-to-time.csv",
         "237"
        ],
        [
         "28",
         "time-per-step.csv",
         "1107"
        ],
        [
         "29",
         "pcg-iter.csv",
         "4835"
        ],
        [
         "30",
         "contact-mat-rebuild.csv",
         "4835"
        ]
       ],
       "shape": {
        "columns": 2,
        "rows": 31
       }
      },
      "text/html": [
       "<div>\n",
       "<style scoped>\n",
       "    .dataframe tbody tr th:only-of-type {\n",
       "        vertical-align: middle;\n",
       "    }\n",
       "\n",
       "    .dataframe tbody tr th {\n",
       "        vertical-align: top;\n",
       "    }\n",
       "\n",
       "    .dataframe thead th {\n",
       "        text-align: right;\n",
       "    }\n",
       "</style>\n",
       "<table border=\"1\" class=\"dataframe\">\n",
       "  <thead>\n",
       "    <tr style=\"text-align: right;\">\n",
       "      <th></th>\n",
       "      <th>filename</th>\n",
       "      <th>row_count</th>\n",
       "    </tr>\n",
       "  </thead>\n",
       "  <tbody>\n",
       "    <tr>\n",
       "      <th>0</th>\n",
       "      <td>avg-sigma.csv</td>\n",
       "      <td>1107</td>\n",
       "    </tr>\n",
       "    <tr>\n",
       "      <th>1</th>\n",
       "      <td>fillin-pass.csv</td>\n",
       "      <td>4835</td>\n",
       "    </tr>\n",
       "    <tr>\n",
       "      <th>2</th>\n",
       "      <td>pcg-resid.csv</td>\n",
       "      <td>4835</td>\n",
       "    </tr>\n",
       "    <tr>\n",
       "      <th>3</th>\n",
       "      <td>line-search.csv</td>\n",
       "      <td>4835</td>\n",
       "    </tr>\n",
       "    <tr>\n",
       "      <th>4</th>\n",
       "      <td>max-search-dir.csv</td>\n",
       "      <td>4835</td>\n",
       "    </tr>\n",
       "    <tr>\n",
       "      <th>5</th>\n",
       "      <td>dyn-consumed.csv</td>\n",
       "      <td>4835</td>\n",
       "    </tr>\n",
       "    <tr>\n",
       "      <th>6</th>\n",
       "      <td>toi-recale.csv</td>\n",
       "      <td>4835</td>\n",
       "    </tr>\n",
       "    <tr>\n",
       "      <th>7</th>\n",
       "      <td>initialize.csv</td>\n",
       "      <td>1</td>\n",
       "    </tr>\n",
       "    <tr>\n",
       "      <th>8</th>\n",
       "      <td>dt.csv</td>\n",
       "      <td>1107</td>\n",
       "    </tr>\n",
       "    <tr>\n",
       "      <th>9</th>\n",
       "      <td>num-contact.csv</td>\n",
       "      <td>4835</td>\n",
       "    </tr>\n",
       "    <tr>\n",
       "      <th>10</th>\n",
       "      <td>toi-advanced.csv</td>\n",
       "      <td>1107</td>\n",
       "    </tr>\n",
       "    <tr>\n",
       "      <th>11</th>\n",
       "      <td>playback.csv</td>\n",
       "      <td>1107</td>\n",
       "    </tr>\n",
       "    <tr>\n",
       "      <th>12</th>\n",
       "      <td>max-nnz-row.csv</td>\n",
       "      <td>4835</td>\n",
       "    </tr>\n",
       "    <tr>\n",
       "      <th>13</th>\n",
       "      <td>dry-pass.csv</td>\n",
       "      <td>4835</td>\n",
       "    </tr>\n",
       "    <tr>\n",
       "      <th>14</th>\n",
       "      <td>time-per-frame.csv</td>\n",
       "      <td>237</td>\n",
       "    </tr>\n",
       "    <tr>\n",
       "      <th>15</th>\n",
       "      <td>contact-mat-finalize.csv</td>\n",
       "      <td>4835</td>\n",
       "    </tr>\n",
       "    <tr>\n",
       "      <th>16</th>\n",
       "      <td>runtime-intersection-check.csv</td>\n",
       "      <td>4835</td>\n",
       "    </tr>\n",
       "    <tr>\n",
       "      <th>17</th>\n",
       "      <td>pcg-linsolve.csv</td>\n",
       "      <td>4835</td>\n",
       "    </tr>\n",
       "    <tr>\n",
       "      <th>18</th>\n",
       "      <td>matrix-assembly.csv</td>\n",
       "      <td>4835</td>\n",
       "    </tr>\n",
       "    <tr>\n",
       "      <th>19</th>\n",
       "      <td>max-velocity.csv</td>\n",
       "      <td>1107</td>\n",
       "    </tr>\n",
       "    <tr>\n",
       "      <th>20</th>\n",
       "      <td>newton-steps.csv</td>\n",
       "      <td>1107</td>\n",
       "    </tr>\n",
       "    <tr>\n",
       "      <th>21</th>\n",
       "      <td>toi.csv</td>\n",
       "      <td>4835</td>\n",
       "    </tr>\n",
       "    <tr>\n",
       "      <th>22</th>\n",
       "      <td>initial-check-intersection.csv</td>\n",
       "      <td>1</td>\n",
       "    </tr>\n",
       "    <tr>\n",
       "      <th>23</th>\n",
       "      <td>contact-matrix-assembly.csv</td>\n",
       "      <td>4835</td>\n",
       "    </tr>\n",
       "    <tr>\n",
       "      <th>24</th>\n",
       "      <td>SL-toi.csv</td>\n",
       "      <td>4835</td>\n",
       "    </tr>\n",
       "    <tr>\n",
       "      <th>25</th>\n",
       "      <td>max-sigma.csv</td>\n",
       "      <td>1107</td>\n",
       "    </tr>\n",
       "    <tr>\n",
       "      <th>26</th>\n",
       "      <td>final-dt.csv</td>\n",
       "      <td>1107</td>\n",
       "    </tr>\n",
       "    <tr>\n",
       "      <th>27</th>\n",
       "      <td>frame-to-time.csv</td>\n",
       "      <td>237</td>\n",
       "    </tr>\n",
       "    <tr>\n",
       "      <th>28</th>\n",
       "      <td>time-per-step.csv</td>\n",
       "      <td>1107</td>\n",
       "    </tr>\n",
       "    <tr>\n",
       "      <th>29</th>\n",
       "      <td>pcg-iter.csv</td>\n",
       "      <td>4835</td>\n",
       "    </tr>\n",
       "    <tr>\n",
       "      <th>30</th>\n",
       "      <td>contact-mat-rebuild.csv</td>\n",
       "      <td>4835</td>\n",
       "    </tr>\n",
       "  </tbody>\n",
       "</table>\n",
       "</div>"
      ],
      "text/plain": [
       "                          filename  row_count\n",
       "0                    avg-sigma.csv       1107\n",
       "1                  fillin-pass.csv       4835\n",
       "2                    pcg-resid.csv       4835\n",
       "3                  line-search.csv       4835\n",
       "4               max-search-dir.csv       4835\n",
       "5                 dyn-consumed.csv       4835\n",
       "6                   toi-recale.csv       4835\n",
       "7                   initialize.csv          1\n",
       "8                           dt.csv       1107\n",
       "9                  num-contact.csv       4835\n",
       "10                toi-advanced.csv       1107\n",
       "11                    playback.csv       1107\n",
       "12                 max-nnz-row.csv       4835\n",
       "13                    dry-pass.csv       4835\n",
       "14              time-per-frame.csv        237\n",
       "15        contact-mat-finalize.csv       4835\n",
       "16  runtime-intersection-check.csv       4835\n",
       "17                pcg-linsolve.csv       4835\n",
       "18             matrix-assembly.csv       4835\n",
       "19                max-velocity.csv       1107\n",
       "20                newton-steps.csv       1107\n",
       "21                         toi.csv       4835\n",
       "22  initial-check-intersection.csv          1\n",
       "23     contact-matrix-assembly.csv       4835\n",
       "24                      SL-toi.csv       4835\n",
       "25                   max-sigma.csv       1107\n",
       "26                    final-dt.csv       1107\n",
       "27               frame-to-time.csv        237\n",
       "28               time-per-step.csv       1107\n",
       "29                    pcg-iter.csv       4835\n",
       "30         contact-mat-rebuild.csv       4835"
      ]
     },
     "execution_count": 2,
     "metadata": {},
     "output_type": "execute_result"
    }
   ],
   "source": [
    "import os\n",
    "import pandas as pd\n",
    "\n",
    "# Path to the folder inside \"logs\"\n",
    "folder_path = os.path.join(\"logs_archive\", \"run_20250505_030057\")\n",
    "\n",
    "\n",
    "# Create a list to store file info\n",
    "file_info = []\n",
    "\n",
    "# Loop through each file and get row counts\n",
    "for filename in os.listdir(folder_path):\n",
    "    if filename.endswith(\".csv\"):\n",
    "        file_path = os.path.join(folder_path, filename)\n",
    "        try:\n",
    "            with open(file_path) as f:\n",
    "                row_count = sum(1 for _ in f) - 1  # subtract 1 for header\n",
    "            file_info.append({\"filename\": filename, \"row_count\": row_count})\n",
    "        except Exception as e:\n",
    "            file_info.append({\"filename\": filename, \"row_count\": f\"Error: {e}\"})\n",
    "\n",
    "# Convert to DataFrame\n",
    "row_counts_df = pd.DataFrame(file_info)\n",
    "\n",
    "# Display the DataFrame\n",
    "row_counts_df\n",
    "\n"
   ]
  },
  {
   "cell_type": "code",
   "execution_count": null,
   "id": "bdf78e37",
   "metadata": {},
   "outputs": [
    {
     "data": {
      "application/vnd.microsoft.datawrangler.viewer.v0+json": {
       "columns": [
        {
         "name": "index",
         "rawType": "int64",
         "type": "integer"
        },
        {
         "name": "time_or_frame",
         "rawType": "float64",
         "type": "float"
        },
        {
         "name": "value",
         "rawType": "int64",
         "type": "integer"
        },
        {
         "name": "time",
         "rawType": "float64",
         "type": "float"
        },
        {
         "name": "newton_steps",
         "rawType": "int64",
         "type": "integer"
        },
        {
         "name": "vid_time_diff",
         "rawType": "float64",
         "type": "float"
        }
       ],
       "conversionMethod": "pd.DataFrame",
       "ref": "0349f37f-12b2-45e1-ba47-c316778e795e",
       "rows": [
        [
         "0",
         "0.0",
         "3",
         "0.0",
         "3",
         null
        ],
        [
         "1",
         "0.000227",
         "2",
         "0.000227",
         "2",
         "0.000227"
        ],
        [
         "2",
         "0.000507",
         "1",
         "0.000507",
         "1",
         "0.00028"
        ],
        [
         "3",
         "0.000694",
         "2",
         "0.000694",
         "2",
         "0.000187"
        ],
        [
         "4",
         "0.000883",
         "3",
         "0.000883",
         "3",
         "0.00018900000000000004"
        ],
        [
         "5",
         "0.001154",
         "1",
         "0.001154",
         "1",
         "0.0002710000000000001"
        ],
        [
         "6",
         "0.001361",
         "3",
         "0.001361",
         "3",
         "0.00020699999999999994"
        ],
        [
         "7",
         "0.001548",
         "1",
         "0.001548",
         "1",
         "0.00018699999999999988"
        ],
        [
         "8",
         "0.00173",
         "3",
         "0.00173",
         "3",
         "0.0001820000000000001"
        ],
        [
         "9",
         "0.002014",
         "2",
         "0.002014",
         "2",
         "0.0002840000000000002"
        ],
        [
         "10",
         "0.002207",
         "2",
         "0.002207",
         "2",
         "0.00019300000000000003"
        ],
        [
         "11",
         "0.002383",
         "1",
         "0.002383",
         "1",
         "0.00017599999999999994"
        ],
        [
         "12",
         "0.002574",
         "3",
         "0.002574",
         "3",
         "0.00019099999999999976"
        ],
        [
         "13",
         "0.002805",
         "1",
         "0.002805",
         "1",
         "0.0002310000000000003"
        ],
        [
         "14",
         "0.002997",
         "3",
         "0.002997",
         "3",
         "0.0001919999999999999"
        ],
        [
         "15",
         "0.003255",
         "5",
         "0.003255",
         "5",
         "0.000258"
        ],
        [
         "16",
         "0.003469",
         "3",
         "0.003469",
         "3",
         "0.00021399999999999978"
        ],
        [
         "17",
         "0.003684",
         "3",
         "0.003684",
         "3",
         "0.00021500000000000035"
        ],
        [
         "18",
         "0.003936",
         "3",
         "0.003936",
         "3",
         "0.00025200000000000005"
        ],
        [
         "19",
         "0.004116",
         "3",
         "0.004116",
         "3",
         "0.0001799999999999996"
        ],
        [
         "20",
         "0.004407",
         "2",
         "0.004407",
         "2",
         "0.00029100000000000046"
        ],
        [
         "21",
         "0.004601",
         "3",
         "0.004601",
         "3",
         "0.00019399999999999973"
        ],
        [
         "22",
         "0.004842",
         "4",
         "0.004842",
         "4",
         "0.0002409999999999999"
        ],
        [
         "23",
         "0.00507",
         "3",
         "0.00507",
         "3",
         "0.0002279999999999999"
        ],
        [
         "24",
         "0.005251",
         "3",
         "0.005251",
         "3",
         "0.00018099999999999974"
        ],
        [
         "25",
         "0.005459",
         "2",
         "0.005459",
         "2",
         "0.00020800000000000072"
        ],
        [
         "26",
         "0.005692",
         "2",
         "0.005692",
         "2",
         "0.0002329999999999997"
        ],
        [
         "27",
         "0.005919",
         "2",
         "0.005919",
         "2",
         "0.00022699999999999977"
        ],
        [
         "28",
         "0.006187",
         "4",
         "0.006187",
         "4",
         "0.000268"
        ],
        [
         "29",
         "0.006452",
         "3",
         "0.006452",
         "3",
         "0.0002650000000000005"
        ],
        [
         "30",
         "0.006671",
         "4",
         "0.006671",
         "4",
         "0.00021899999999999958"
        ],
        [
         "31",
         "0.006892",
         "5",
         "0.006892",
         "5",
         "0.00022099999999999984"
        ],
        [
         "32",
         "0.007152",
         "4",
         "0.007152",
         "4",
         "0.0002600000000000007"
        ],
        [
         "33",
         "0.007422",
         "3",
         "0.007422",
         "3",
         "0.0002699999999999994"
        ],
        [
         "34",
         "0.007604",
         "5",
         "0.007604",
         "5",
         "0.00018199999999999987"
        ],
        [
         "35",
         "0.007791",
         "4",
         "0.007791",
         "4",
         "0.00018700000000000053"
        ],
        [
         "36",
         "0.008025",
         "4",
         "0.008025",
         "4",
         "0.00023399999999999897"
        ],
        [
         "37",
         "0.008212",
         "6",
         "0.008212",
         "6",
         "0.0001870000000000014"
        ],
        [
         "38",
         "0.00845",
         "4",
         "0.00845",
         "4",
         "0.00023799999999999863"
        ],
        [
         "39",
         "0.008659",
         "4",
         "0.008659",
         "4",
         "0.00020900000000000085"
        ],
        [
         "40",
         "0.008915",
         "4",
         "0.008915",
         "4",
         "0.0002559999999999993"
        ],
        [
         "41",
         "0.009208",
         "5",
         "0.009208",
         "5",
         "0.00029299999999999986"
        ],
        [
         "42",
         "0.009438",
         "4",
         "0.009438",
         "4",
         "0.00023000000000000104"
        ],
        [
         "43",
         "0.009659",
         "4",
         "0.009659",
         "4",
         "0.00022099999999999898"
        ],
        [
         "44",
         "0.009835",
         "6",
         "0.009835",
         "6",
         "0.0001760000000000008"
        ],
        [
         "45",
         "0.010025",
         "3",
         "0.010025",
         "3",
         "0.0001899999999999992"
        ],
        [
         "46",
         "0.010204",
         "5",
         "0.010204",
         "5",
         "0.00017900000000000034"
        ],
        [
         "47",
         "0.010397",
         "5",
         "0.010397",
         "5",
         "0.00019300000000000046"
        ],
        [
         "48",
         "0.010729",
         "4",
         "0.010729",
         "4",
         "0.0003320000000000007"
        ],
        [
         "49",
         "0.010929",
         "4",
         "0.010929",
         "4",
         "0.0001999999999999988"
        ]
       ],
       "shape": {
        "columns": 5,
        "rows": 1107
       }
      },
      "text/html": [
       "<div>\n",
       "<style scoped>\n",
       "    .dataframe tbody tr th:only-of-type {\n",
       "        vertical-align: middle;\n",
       "    }\n",
       "\n",
       "    .dataframe tbody tr th {\n",
       "        vertical-align: top;\n",
       "    }\n",
       "\n",
       "    .dataframe thead th {\n",
       "        text-align: right;\n",
       "    }\n",
       "</style>\n",
       "<table border=\"1\" class=\"dataframe\">\n",
       "  <thead>\n",
       "    <tr style=\"text-align: right;\">\n",
       "      <th></th>\n",
       "      <th>time_or_frame</th>\n",
       "      <th>value</th>\n",
       "      <th>time</th>\n",
       "      <th>newton_steps</th>\n",
       "      <th>vid_time_diff</th>\n",
       "    </tr>\n",
       "  </thead>\n",
       "  <tbody>\n",
       "    <tr>\n",
       "      <th>0</th>\n",
       "      <td>0.000000</td>\n",
       "      <td>3</td>\n",
       "      <td>0.000000</td>\n",
       "      <td>3</td>\n",
       "      <td>NaN</td>\n",
       "    </tr>\n",
       "    <tr>\n",
       "      <th>1</th>\n",
       "      <td>0.000227</td>\n",
       "      <td>2</td>\n",
       "      <td>0.000227</td>\n",
       "      <td>2</td>\n",
       "      <td>0.000227</td>\n",
       "    </tr>\n",
       "    <tr>\n",
       "      <th>2</th>\n",
       "      <td>0.000507</td>\n",
       "      <td>1</td>\n",
       "      <td>0.000507</td>\n",
       "      <td>1</td>\n",
       "      <td>0.000280</td>\n",
       "    </tr>\n",
       "    <tr>\n",
       "      <th>3</th>\n",
       "      <td>0.000694</td>\n",
       "      <td>2</td>\n",
       "      <td>0.000694</td>\n",
       "      <td>2</td>\n",
       "      <td>0.000187</td>\n",
       "    </tr>\n",
       "    <tr>\n",
       "      <th>4</th>\n",
       "      <td>0.000883</td>\n",
       "      <td>3</td>\n",
       "      <td>0.000883</td>\n",
       "      <td>3</td>\n",
       "      <td>0.000189</td>\n",
       "    </tr>\n",
       "    <tr>\n",
       "      <th>...</th>\n",
       "      <td>...</td>\n",
       "      <td>...</td>\n",
       "      <td>...</td>\n",
       "      <td>...</td>\n",
       "      <td>...</td>\n",
       "    </tr>\n",
       "    <tr>\n",
       "      <th>1102</th>\n",
       "      <td>3.968071</td>\n",
       "      <td>1</td>\n",
       "      <td>3.968071</td>\n",
       "      <td>1</td>\n",
       "      <td>0.019976</td>\n",
       "    </tr>\n",
       "    <tr>\n",
       "      <th>1103</th>\n",
       "      <td>3.975487</td>\n",
       "      <td>1</td>\n",
       "      <td>3.975487</td>\n",
       "      <td>1</td>\n",
       "      <td>0.007416</td>\n",
       "    </tr>\n",
       "    <tr>\n",
       "      <th>1104</th>\n",
       "      <td>3.983251</td>\n",
       "      <td>1</td>\n",
       "      <td>3.983251</td>\n",
       "      <td>1</td>\n",
       "      <td>0.007764</td>\n",
       "    </tr>\n",
       "    <tr>\n",
       "      <th>1105</th>\n",
       "      <td>3.990983</td>\n",
       "      <td>1</td>\n",
       "      <td>3.990983</td>\n",
       "      <td>1</td>\n",
       "      <td>0.007732</td>\n",
       "    </tr>\n",
       "    <tr>\n",
       "      <th>1106</th>\n",
       "      <td>3.997942</td>\n",
       "      <td>1</td>\n",
       "      <td>3.997942</td>\n",
       "      <td>1</td>\n",
       "      <td>0.006959</td>\n",
       "    </tr>\n",
       "  </tbody>\n",
       "</table>\n",
       "<p>1107 rows × 5 columns</p>\n",
       "</div>"
      ],
      "text/plain": [
       "      time_or_frame  value      time  newton_steps  vid_time_diff\n",
       "0          0.000000      3  0.000000             3            NaN\n",
       "1          0.000227      2  0.000227             2       0.000227\n",
       "2          0.000507      1  0.000507             1       0.000280\n",
       "3          0.000694      2  0.000694             2       0.000187\n",
       "4          0.000883      3  0.000883             3       0.000189\n",
       "...             ...    ...       ...           ...            ...\n",
       "1102       3.968071      1  3.968071             1       0.019976\n",
       "1103       3.975487      1  3.975487             1       0.007416\n",
       "1104       3.983251      1  3.983251             1       0.007764\n",
       "1105       3.990983      1  3.990983             1       0.007732\n",
       "1106       3.997942      1  3.997942             1       0.006959\n",
       "\n",
       "[1107 rows x 5 columns]"
      ]
     },
     "execution_count": 6,
     "metadata": {},
     "output_type": "execute_result"
    }
   ],
   "source": [
    "\n",
    "# around row 641 for csvs with 1107 rows is when dt might have changed \n",
    "# Load the CSV\n",
    "df = pd.read_csv(\"logs_archive/run_20250505_030057/newton-steps.csv\")\n",
    "df['time'] = df['time_or_frame'].copy()\n",
    "df['newton_steps'] = df['value'].copy()\n",
    "\n",
    "# Calculate the difference between consecutive vid_time values\n",
    "df['vid_time_diff'] = df['time'].diff()\n",
    "\n",
    "# Find the first index where the increment is (roughly) 0.02\n",
    "threshold = 0.015  # in case it's slightly off from 0.02 due to float rounding\n",
    "switch_row = df[df['vid_time_diff'] > threshold].index[0]\n",
    "\n",
    "# Show the row and maybe a few before/after for context\n",
    "df.iloc[switch_row - 2 : switch_row + 3]\n",
    "df\n"
   ]
  },
  {
   "cell_type": "code",
   "execution_count": null,
   "id": "5f9d38cd",
   "metadata": {},
   "outputs": [
    {
     "data": {
      "application/vnd.microsoft.datawrangler.viewer.v0+json": {
       "columns": [
        {
         "name": "index",
         "rawType": "int64",
         "type": "integer"
        },
        {
         "name": "time",
         "rawType": "float64",
         "type": "float"
        },
        {
         "name": "newton_steps",
         "rawType": "int64",
         "type": "integer"
        },
        {
         "name": "corresponding_frame",
         "rawType": "int64",
         "type": "integer"
        }
       ],
       "conversionMethod": "pd.DataFrame",
       "ref": "4733a577-9f4d-4c05-a3d4-5c4c6eba68f2",
       "rows": [
        [
         "0",
         "0.0",
         "3",
         "0"
        ],
        [
         "1",
         "0.000227",
         "2",
         "0"
        ],
        [
         "2",
         "0.000507",
         "1",
         "0"
        ],
        [
         "3",
         "0.000694",
         "2",
         "0"
        ],
        [
         "4",
         "0.000883",
         "3",
         "0"
        ]
       ],
       "shape": {
        "columns": 3,
        "rows": 5
       }
      },
      "text/html": [
       "<div>\n",
       "<style scoped>\n",
       "    .dataframe tbody tr th:only-of-type {\n",
       "        vertical-align: middle;\n",
       "    }\n",
       "\n",
       "    .dataframe tbody tr th {\n",
       "        vertical-align: top;\n",
       "    }\n",
       "\n",
       "    .dataframe thead th {\n",
       "        text-align: right;\n",
       "    }\n",
       "</style>\n",
       "<table border=\"1\" class=\"dataframe\">\n",
       "  <thead>\n",
       "    <tr style=\"text-align: right;\">\n",
       "      <th></th>\n",
       "      <th>time</th>\n",
       "      <th>newton_steps</th>\n",
       "      <th>corresponding_frame</th>\n",
       "    </tr>\n",
       "  </thead>\n",
       "  <tbody>\n",
       "    <tr>\n",
       "      <th>0</th>\n",
       "      <td>0.000000</td>\n",
       "      <td>3</td>\n",
       "      <td>0</td>\n",
       "    </tr>\n",
       "    <tr>\n",
       "      <th>1</th>\n",
       "      <td>0.000227</td>\n",
       "      <td>2</td>\n",
       "      <td>0</td>\n",
       "    </tr>\n",
       "    <tr>\n",
       "      <th>2</th>\n",
       "      <td>0.000507</td>\n",
       "      <td>1</td>\n",
       "      <td>0</td>\n",
       "    </tr>\n",
       "    <tr>\n",
       "      <th>3</th>\n",
       "      <td>0.000694</td>\n",
       "      <td>2</td>\n",
       "      <td>0</td>\n",
       "    </tr>\n",
       "    <tr>\n",
       "      <th>4</th>\n",
       "      <td>0.000883</td>\n",
       "      <td>3</td>\n",
       "      <td>0</td>\n",
       "    </tr>\n",
       "  </tbody>\n",
       "</table>\n",
       "</div>"
      ],
      "text/plain": [
       "       time  newton_steps  corresponding_frame\n",
       "0  0.000000             3                    0\n",
       "1  0.000227             2                    0\n",
       "2  0.000507             1                    0\n",
       "3  0.000694             2                    0\n",
       "4  0.000883             3                    0"
      ]
     },
     "execution_count": 10,
     "metadata": {},
     "output_type": "execute_result"
    }
   ],
   "source": [
    "# this successfully maps frames to newton steps!!!!\n",
    "\n",
    "\n",
    "# Load both CSVs\n",
    "newton_df = pd.read_csv(\"logs_archive/run_20250505_030057/newton-steps.csv\")\n",
    "frame_df = pd.read_csv(\"logs_archive/run_20250505_030057/frame-to-time.csv\")\n",
    "newton_df['time'] = newton_df['time_or_frame'].copy()\n",
    "newton_df['newton_steps'] = newton_df['value'].copy()\n",
    "newton_df = newton_df[['time','newton_steps']]\n",
    "\n",
    "frame_df['frame'] = frame_df['time_or_frame'].copy()\n",
    "frame_df['time']=frame_df['value'].copy()\n",
    "frame_df = frame_df[['frame','time']]\n",
    "frame_df = frame_df.sort_values(\"time\").reset_index(drop=True)\n",
    "\n",
    "\n",
    "# Merge on the closest matching time using merge_asof\n",
    "frame_df_sorted = frame_df.sort_values(\"time\")\n",
    "newton_df_sorted = newton_df.sort_values(\"time\")\n",
    "\n",
    "# Map time to closest frame time\n",
    "merged_df = pd.merge_asof(newton_df_sorted, frame_df_sorted, on=\"time\", direction='backward')\n",
    "\n",
    "# Rename for clarity\n",
    "merged_df = merged_df.rename(columns={\"frame\": \"corresponding_frame\"})\n",
    "\n",
    "# Optional: see the result\n",
    "merged_df.head()\n"
   ]
  },
  {
   "cell_type": "code",
   "execution_count": null,
   "id": "50c5c85f",
   "metadata": {},
   "outputs": [],
   "source": [
    "newton_df_sorted"
   ]
  }
 ],
 "metadata": {
  "kernelspec": {
   "display_name": "base",
   "language": "python",
   "name": "python3"
  },
  "language_info": {
   "codemirror_mode": {
    "name": "ipython",
    "version": 3
   },
   "file_extension": ".py",
   "mimetype": "text/x-python",
   "name": "python",
   "nbconvert_exporter": "python",
   "pygments_lexer": "ipython3",
   "version": "3.12.2"
  }
 },
 "nbformat": 4,
 "nbformat_minor": 5
}
