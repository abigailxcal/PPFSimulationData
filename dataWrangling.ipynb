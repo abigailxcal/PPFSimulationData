{
 "cells": [
  {
   "cell_type": "code",
   "execution_count": null,
   "id": "cafe1926",
   "metadata": {},
   "outputs": [
    {
     "data": {
      "application/vnd.microsoft.datawrangler.viewer.v0+json": {
       "columns": [
        {
         "name": "index",
         "rawType": "int64",
         "type": "integer"
        },
        {
         "name": "filename",
         "rawType": "object",
         "type": "string"
        },
        {
         "name": "row_count",
         "rawType": "int64",
         "type": "integer"
        }
       ],
       "conversionMethod": "pd.DataFrame",
       "ref": "6f9c5396-7beb-4e1b-afcf-e3aa935214b0",
       "rows": [
        [
         "0",
         "avg-sigma.csv",
         "1107"
        ],
        [
         "1",
         "fillin-pass.csv",
         "4835"
        ],
        [
         "2",
         "pcg-resid.csv",
         "4835"
        ],
        [
         "3",
         "line-search.csv",
         "4835"
        ],
        [
         "4",
         "max-search-dir.csv",
         "4835"
        ],
        [
         "5",
         "dyn-consumed.csv",
         "4835"
        ],
        [
         "6",
         "toi-recale.csv",
         "4835"
        ],
        [
         "7",
         "initialize.csv",
         "1"
        ],
        [
         "8",
         "dt.csv",
         "1107"
        ],
        [
         "9",
         "num-contact.csv",
         "4835"
        ],
        [
         "10",
         "toi-advanced.csv",
         "1107"
        ],
        [
         "11",
         "playback.csv",
         "1107"
        ],
        [
         "12",
         "max-nnz-row.csv",
         "4835"
        ],
        [
         "13",
         "dry-pass.csv",
         "4835"
        ],
        [
         "14",
         "time-per-frame.csv",
         "237"
        ],
        [
         "15",
         "contact-mat-finalize.csv",
         "4835"
        ],
        [
         "16",
         "runtime-intersection-check.csv",
         "4835"
        ],
        [
         "17",
         "pcg-linsolve.csv",
         "4835"
        ],
        [
         "18",
         "matrix-assembly.csv",
         "4835"
        ],
        [
         "19",
         "max-velocity.csv",
         "1107"
        ],
        [
         "20",
         "newton-steps.csv",
         "1107"
        ],
        [
         "21",
         "toi.csv",
         "4835"
        ],
        [
         "22",
         "initial-check-intersection.csv",
         "1"
        ],
        [
         "23",
         "contact-matrix-assembly.csv",
         "4835"
        ],
        [
         "24",
         "SL-toi.csv",
         "4835"
        ],
        [
         "25",
         "max-sigma.csv",
         "1107"
        ],
        [
         "26",
         "final-dt.csv",
         "1107"
        ],
        [
         "27",
         "frame-to-time.csv",
         "237"
        ],
        [
         "28",
         "time-per-step.csv",
         "1107"
        ],
        [
         "29",
         "pcg-iter.csv",
         "4835"
        ],
        [
         "30",
         "contact-mat-rebuild.csv",
         "4835"
        ]
       ],
       "shape": {
        "columns": 2,
        "rows": 31
       }
      },
      "text/html": [
       "<div>\n",
       "<style scoped>\n",
       "    .dataframe tbody tr th:only-of-type {\n",
       "        vertical-align: middle;\n",
       "    }\n",
       "\n",
       "    .dataframe tbody tr th {\n",
       "        vertical-align: top;\n",
       "    }\n",
       "\n",
       "    .dataframe thead th {\n",
       "        text-align: right;\n",
       "    }\n",
       "</style>\n",
       "<table border=\"1\" class=\"dataframe\">\n",
       "  <thead>\n",
       "    <tr style=\"text-align: right;\">\n",
       "      <th></th>\n",
       "      <th>filename</th>\n",
       "      <th>row_count</th>\n",
       "    </tr>\n",
       "  </thead>\n",
       "  <tbody>\n",
       "    <tr>\n",
       "      <th>0</th>\n",
       "      <td>avg-sigma.csv</td>\n",
       "      <td>1107</td>\n",
       "    </tr>\n",
       "    <tr>\n",
       "      <th>1</th>\n",
       "      <td>fillin-pass.csv</td>\n",
       "      <td>4835</td>\n",
       "    </tr>\n",
       "    <tr>\n",
       "      <th>2</th>\n",
       "      <td>pcg-resid.csv</td>\n",
       "      <td>4835</td>\n",
       "    </tr>\n",
       "    <tr>\n",
       "      <th>3</th>\n",
       "      <td>line-search.csv</td>\n",
       "      <td>4835</td>\n",
       "    </tr>\n",
       "    <tr>\n",
       "      <th>4</th>\n",
       "      <td>max-search-dir.csv</td>\n",
       "      <td>4835</td>\n",
       "    </tr>\n",
       "    <tr>\n",
       "      <th>5</th>\n",
       "      <td>dyn-consumed.csv</td>\n",
       "      <td>4835</td>\n",
       "    </tr>\n",
       "    <tr>\n",
       "      <th>6</th>\n",
       "      <td>toi-recale.csv</td>\n",
       "      <td>4835</td>\n",
       "    </tr>\n",
       "    <tr>\n",
       "      <th>7</th>\n",
       "      <td>initialize.csv</td>\n",
       "      <td>1</td>\n",
       "    </tr>\n",
       "    <tr>\n",
       "      <th>8</th>\n",
       "      <td>dt.csv</td>\n",
       "      <td>1107</td>\n",
       "    </tr>\n",
       "    <tr>\n",
       "      <th>9</th>\n",
       "      <td>num-contact.csv</td>\n",
       "      <td>4835</td>\n",
       "    </tr>\n",
       "    <tr>\n",
       "      <th>10</th>\n",
       "      <td>toi-advanced.csv</td>\n",
       "      <td>1107</td>\n",
       "    </tr>\n",
       "    <tr>\n",
       "      <th>11</th>\n",
       "      <td>playback.csv</td>\n",
       "      <td>1107</td>\n",
       "    </tr>\n",
       "    <tr>\n",
       "      <th>12</th>\n",
       "      <td>max-nnz-row.csv</td>\n",
       "      <td>4835</td>\n",
       "    </tr>\n",
       "    <tr>\n",
       "      <th>13</th>\n",
       "      <td>dry-pass.csv</td>\n",
       "      <td>4835</td>\n",
       "    </tr>\n",
       "    <tr>\n",
       "      <th>14</th>\n",
       "      <td>time-per-frame.csv</td>\n",
       "      <td>237</td>\n",
       "    </tr>\n",
       "    <tr>\n",
       "      <th>15</th>\n",
       "      <td>contact-mat-finalize.csv</td>\n",
       "      <td>4835</td>\n",
       "    </tr>\n",
       "    <tr>\n",
       "      <th>16</th>\n",
       "      <td>runtime-intersection-check.csv</td>\n",
       "      <td>4835</td>\n",
       "    </tr>\n",
       "    <tr>\n",
       "      <th>17</th>\n",
       "      <td>pcg-linsolve.csv</td>\n",
       "      <td>4835</td>\n",
       "    </tr>\n",
       "    <tr>\n",
       "      <th>18</th>\n",
       "      <td>matrix-assembly.csv</td>\n",
       "      <td>4835</td>\n",
       "    </tr>\n",
       "    <tr>\n",
       "      <th>19</th>\n",
       "      <td>max-velocity.csv</td>\n",
       "      <td>1107</td>\n",
       "    </tr>\n",
       "    <tr>\n",
       "      <th>20</th>\n",
       "      <td>newton-steps.csv</td>\n",
       "      <td>1107</td>\n",
       "    </tr>\n",
       "    <tr>\n",
       "      <th>21</th>\n",
       "      <td>toi.csv</td>\n",
       "      <td>4835</td>\n",
       "    </tr>\n",
       "    <tr>\n",
       "      <th>22</th>\n",
       "      <td>initial-check-intersection.csv</td>\n",
       "      <td>1</td>\n",
       "    </tr>\n",
       "    <tr>\n",
       "      <th>23</th>\n",
       "      <td>contact-matrix-assembly.csv</td>\n",
       "      <td>4835</td>\n",
       "    </tr>\n",
       "    <tr>\n",
       "      <th>24</th>\n",
       "      <td>SL-toi.csv</td>\n",
       "      <td>4835</td>\n",
       "    </tr>\n",
       "    <tr>\n",
       "      <th>25</th>\n",
       "      <td>max-sigma.csv</td>\n",
       "      <td>1107</td>\n",
       "    </tr>\n",
       "    <tr>\n",
       "      <th>26</th>\n",
       "      <td>final-dt.csv</td>\n",
       "      <td>1107</td>\n",
       "    </tr>\n",
       "    <tr>\n",
       "      <th>27</th>\n",
       "      <td>frame-to-time.csv</td>\n",
       "      <td>237</td>\n",
       "    </tr>\n",
       "    <tr>\n",
       "      <th>28</th>\n",
       "      <td>time-per-step.csv</td>\n",
       "      <td>1107</td>\n",
       "    </tr>\n",
       "    <tr>\n",
       "      <th>29</th>\n",
       "      <td>pcg-iter.csv</td>\n",
       "      <td>4835</td>\n",
       "    </tr>\n",
       "    <tr>\n",
       "      <th>30</th>\n",
       "      <td>contact-mat-rebuild.csv</td>\n",
       "      <td>4835</td>\n",
       "    </tr>\n",
       "  </tbody>\n",
       "</table>\n",
       "</div>"
      ],
      "text/plain": [
       "                          filename  row_count\n",
       "0                    avg-sigma.csv       1107\n",
       "1                  fillin-pass.csv       4835\n",
       "2                    pcg-resid.csv       4835\n",
       "3                  line-search.csv       4835\n",
       "4               max-search-dir.csv       4835\n",
       "5                 dyn-consumed.csv       4835\n",
       "6                   toi-recale.csv       4835\n",
       "7                   initialize.csv          1\n",
       "8                           dt.csv       1107\n",
       "9                  num-contact.csv       4835\n",
       "10                toi-advanced.csv       1107\n",
       "11                    playback.csv       1107\n",
       "12                 max-nnz-row.csv       4835\n",
       "13                    dry-pass.csv       4835\n",
       "14              time-per-frame.csv        237\n",
       "15        contact-mat-finalize.csv       4835\n",
       "16  runtime-intersection-check.csv       4835\n",
       "17                pcg-linsolve.csv       4835\n",
       "18             matrix-assembly.csv       4835\n",
       "19                max-velocity.csv       1107\n",
       "20                newton-steps.csv       1107\n",
       "21                         toi.csv       4835\n",
       "22  initial-check-intersection.csv          1\n",
       "23     contact-matrix-assembly.csv       4835\n",
       "24                      SL-toi.csv       4835\n",
       "25                   max-sigma.csv       1107\n",
       "26                    final-dt.csv       1107\n",
       "27               frame-to-time.csv        237\n",
       "28               time-per-step.csv       1107\n",
       "29                    pcg-iter.csv       4835\n",
       "30         contact-mat-rebuild.csv       4835"
      ]
     },
     "execution_count": 2,
     "metadata": {},
     "output_type": "execute_result"
    }
   ],
   "source": [
    "import os\n",
    "import pandas as pd\n",
    "\n",
    "# Path to the folder inside \"logs\"\n",
    "folder_path = os.path.join(\"logs_archive\", \"run_20250505_030057\")\n",
    "\n",
    "\n",
    "# Create a list to store file info\n",
    "file_info = []\n",
    "\n",
    "# Loop through each file and get row counts\n",
    "for filename in os.listdir(folder_path):\n",
    "    if filename.endswith(\".csv\"):\n",
    "        file_path = os.path.join(folder_path, filename)\n",
    "        try:\n",
    "            with open(file_path) as f:\n",
    "                row_count = sum(1 for _ in f) - 1  # subtract 1 for header\n",
    "            file_info.append({\"filename\": filename, \"row_count\": row_count})\n",
    "        except Exception as e:\n",
    "            file_info.append({\"filename\": filename, \"row_count\": f\"Error: {e}\"})\n",
    "\n",
    "# Convert to DataFrame\n",
    "row_counts_df = pd.DataFrame(file_info)\n",
    "\n",
    "# Display the DataFrame\n",
    "row_counts_df\n",
    "\n"
   ]
  }
 ],
 "metadata": {
  "kernelspec": {
   "display_name": "base",
   "language": "python",
   "name": "python3"
  },
  "language_info": {
   "codemirror_mode": {
    "name": "ipython",
    "version": 3
   },
   "file_extension": ".py",
   "mimetype": "text/x-python",
   "name": "python",
   "nbconvert_exporter": "python",
   "pygments_lexer": "ipython3",
   "version": "3.12.2"
  }
 },
 "nbformat": 4,
 "nbformat_minor": 5
}
